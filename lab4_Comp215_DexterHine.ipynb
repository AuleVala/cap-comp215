{
  "cells": [
    {
      "cell_type": "markdown",
      "metadata": {
        "id": "view-in-github",
        "colab_type": "text"
      },
      "source": [
        "<a href=\"https://colab.research.google.com/github/AuleVala/cap-comp215/blob/main/lab4_Comp215_DexterHine.ipynb\" target=\"_parent\"><img src=\"https://colab.research.google.com/assets/colab-badge.svg\" alt=\"Open In Colab\"/></a>"
      ]
    },
    {
      "cell_type": "markdown",
      "metadata": {
        "id": "03hLMZ67JXUX"
      },
      "source": [
        "# Erdos-Renyi Graphs\n",
        "\n",
        "Code examples from [Think Complexity, 2nd edition](https://thinkcomplex.com).\n",
        "\n",
        "Copyright 2016 Allen Downey, [MIT License](http://opensource.org/licenses/MIT)"
      ]
    },
    {
      "cell_type": "code",
      "execution_count": 251,
      "metadata": {
        "tags": [],
        "id": "dygEC_lEJXUa"
      },
      "outputs": [],
      "source": [
        "import os\n",
        "\n",
        "if not os.path.exists('utils.py'):\n",
        "    !wget https://raw.githubusercontent.com/AllenDowney/ThinkComplexity2/master/notebooks/utils.py\n",
        "\n",
        "%matplotlib inline\n",
        "\n",
        "import matplotlib.pyplot as plt\n",
        "import networkx as nx\n",
        "import numpy as np\n",
        "import seaborn as sns\n",
        "import random\n",
        "\n",
        "from utils import decorate\n",
        "\n",
        "# I set the random seed so the notebook \n",
        "# produces the same results every time.\n",
        "np.random.seed(17)\n",
        "\n",
        "# TODO: remove this when NetworkX is fixed\n",
        "from warnings import simplefilter\n",
        "import matplotlib.cbook\n",
        "simplefilter(\"ignore\", matplotlib.cbook.mplDeprecation)"
      ]
    },
    {
      "cell_type": "code",
      "execution_count": 252,
      "metadata": {
        "id": "rxh3dAfwJXUb"
      },
      "outputs": [],
      "source": [
        "# node colors for drawing networks\n",
        "colors = sns.color_palette('pastel', 5)\n",
        "#sns.palplot(colors)\n",
        "sns.set_palette(colors)"
      ]
    },
    {
      "cell_type": "markdown",
      "metadata": {
        "id": "S8iBe7v8JXUc"
      },
      "source": [
        "## Directed graph\n",
        "\n",
        "The first example is a directed graph that represents a social network with three nodes."
      ]
    },
    {
      "cell_type": "code",
      "execution_count": 253,
      "metadata": {
        "id": "W6_9CXqJJXUc",
        "outputId": "3414fef7-d42f-41d4-b04b-ab2e98a233e8",
        "colab": {
          "base_uri": "https://localhost:8080/"
        }
      },
      "outputs": [
        {
          "output_type": "execute_result",
          "data": {
            "text/plain": [
              "['John', 'Alice', 'Bob', 'Chuck']"
            ]
          },
          "metadata": {},
          "execution_count": 253
        }
      ],
      "source": [
        "G = nx.DiGraph()\n",
        "G.add_node('John')\n",
        "G.add_node('Alice')\n",
        "G.add_node('Bob')\n",
        "G.add_node('Chuck')\n",
        "list(G.nodes())"
      ]
    },
    {
      "cell_type": "markdown",
      "metadata": {
        "id": "KO-I5tMnJXUd"
      },
      "source": [
        "Here's how we add edges between nodes."
      ]
    },
    {
      "cell_type": "code",
      "execution_count": 254,
      "metadata": {
        "id": "iDvykn68JXUd",
        "outputId": "1645ddb9-2e49-4810-ffec-920aded9a3f1",
        "colab": {
          "base_uri": "https://localhost:8080/"
        }
      },
      "outputs": [
        {
          "output_type": "execute_result",
          "data": {
            "text/plain": [
              "[('John', 'Bob'),\n",
              " ('John', 'Alice'),\n",
              " ('Alice', 'Bob'),\n",
              " ('Alice', 'Chuck'),\n",
              " ('Bob', 'Alice'),\n",
              " ('Bob', 'Chuck')]"
            ]
          },
          "metadata": {},
          "execution_count": 254
        }
      ],
      "source": [
        "G.add_edge('Alice', 'Bob')\n",
        "G.add_edge('Alice', 'Chuck')\n",
        "G.add_edge('Bob', 'Alice')\n",
        "G.add_edge('Bob', 'Chuck')\n",
        "G.add_edge('John','Bob')\n",
        "G.add_edge('John','Alice')\n",
        "list(G.edges())"
      ]
    },
    {
      "cell_type": "markdown",
      "metadata": {
        "id": "6WWqj80yJXUe"
      },
      "source": [
        "And here's how to draw the graph."
      ]
    },
    {
      "cell_type": "code",
      "execution_count": 255,
      "metadata": {
        "tags": [],
        "id": "KPSi5aOhJXUe",
        "outputId": "a4ead265-76e3-4bbe-f1ce-a07140feb9f3",
        "colab": {
          "base_uri": "https://localhost:8080/",
          "height": 319
        }
      },
      "outputs": [
        {
          "output_type": "display_data",
          "data": {
            "image/png": "[encoded data removed]",
            "text/plain": [
              "<Figure size 432x288 with 1 Axes>"
            ]
          },
          "metadata": {}
        }
      ],
      "source": [
        "nx.draw_circular(G,\n",
        "                 node_color='C0',\n",
        "                 node_size=2000, \n",
        "                 with_labels=True)\n",
        "plt.axis('equal')\n",
        "plt.show('figs/chap03-1')"
      ]
    },
    {
      "cell_type": "markdown",
      "metadata": {
        "id": "SQGPtwqsJXUf"
      },
      "source": [
        "**Exercise:**  Add another node and a few more edges and draw the graph again."
      ]
    },
    {
      "cell_type": "code",
      "execution_count": 256,
      "metadata": {
        "id": "OuBfIit4JXUf",
        "colab": {
          "base_uri": "https://localhost:8080/",
          "height": 319
        },
        "outputId": "a45f05e3-5e16-4d3e-f31e-a98ef7617e24"
      },
      "outputs": [
        {
          "output_type": "display_data",
          "data": {
            "image/png": "[encoded data removed]",
            "text/plain": [
              "<Figure size 432x288 with 1 Axes>"
            ]
          },
          "metadata": {}
        }
      ],
      "source": [
        "# Solution goes here\n",
        "G.add_node('Eru')\n",
        "G.add_edge('Eru', 'Bob')\n",
        "G.add_edge('Bob', 'Eru')\n",
        "nx.draw_circular(G,\n",
        "                 node_color='C0',\n",
        "                 node_size=2000, \n",
        "                 with_labels=True)\n",
        "plt.axis('equal')\n",
        "plt.show('figs/chap03-1')\n"
      ]
    },
    {
      "cell_type": "markdown",
      "metadata": {
        "id": "CP7JznMxJXUg"
      },
      "source": [
        "## Undirected graph\n",
        "\n",
        "The second example is an undirected graph that represents cities and the driving times between them.\n",
        "\n",
        "`positions` is a dictionary that maps from each city to its coordinates."
      ]
    },
    {
      "cell_type": "code",
      "execution_count": 257,
      "metadata": {
        "id": "NBpPs2lLJXUg",
        "outputId": "fea9d366-7c32-4d2c-af0a-2f107446be5a",
        "colab": {
          "base_uri": "https://localhost:8080/"
        }
      },
      "outputs": [
        {
          "output_type": "execute_result",
          "data": {
            "text/plain": [
              "(-74, 43)"
            ]
          },
          "metadata": {},
          "execution_count": 257
        }
      ],
      "source": [
        "positions = dict(Albany=(-74, 43),\n",
        "                 Boston=(-71, 42),\n",
        "                 NYC=(-74, 41),\n",
        "                 Philly=(-75, 40))\n",
        "\n",
        "positions['Albany']"
      ]
    },
    {
      "cell_type": "markdown",
      "metadata": {
        "id": "hkbyfKpcJXUg"
      },
      "source": [
        "We can use the keys in `pos` to add nodes to the graph."
      ]
    },
    {
      "cell_type": "code",
      "execution_count": 258,
      "metadata": {
        "id": "Q7aFqV6pJXUg",
        "outputId": "12f0c62c-c9ad-4f5c-ab69-e2e756d7622e",
        "colab": {
          "base_uri": "https://localhost:8080/"
        }
      },
      "outputs": [
        {
          "output_type": "execute_result",
          "data": {
            "text/plain": [
              "NodeView(('Albany', 'Boston', 'NYC', 'Philly'))"
            ]
          },
          "metadata": {},
          "execution_count": 258
        }
      ],
      "source": [
        "G = nx.Graph()\n",
        "G.add_nodes_from(positions)\n",
        "G.nodes()"
      ]
    },
    {
      "cell_type": "markdown",
      "metadata": {
        "id": "qnZ2-96fJXUh"
      },
      "source": [
        "`drive_times` is a dictionary that maps from pairs of cities to the driving times between them."
      ]
    },
    {
      "cell_type": "code",
      "execution_count": 259,
      "metadata": {
        "id": "rADlvhTGJXUh"
      },
      "outputs": [],
      "source": [
        "drive_times = {('Albany', 'Boston'): 3,\n",
        "               ('Albany', 'NYC'): 4,\n",
        "               ('Boston', 'NYC'): 4,\n",
        "               ('NYC', 'Philly'): 2}"
      ]
    },
    {
      "cell_type": "markdown",
      "metadata": {
        "id": "8ItfFXkFJXUh"
      },
      "source": [
        "We can use the keys from `drive_times` to add edges to the graph."
      ]
    },
    {
      "cell_type": "code",
      "execution_count": 260,
      "metadata": {
        "id": "xNzYszjyJXUh",
        "outputId": "ed82b53a-a13a-409e-fa9b-d9f67f121113",
        "colab": {
          "base_uri": "https://localhost:8080/"
        }
      },
      "outputs": [
        {
          "output_type": "execute_result",
          "data": {
            "text/plain": [
              "EdgeView([('Albany', 'Boston'), ('Albany', 'NYC'), ('Boston', 'NYC'), ('NYC', 'Philly')])"
            ]
          },
          "metadata": {},
          "execution_count": 260
        }
      ],
      "source": [
        "G.add_edges_from(drive_times)\n",
        "G.edges()"
      ]
    },
    {
      "cell_type": "markdown",
      "metadata": {
        "id": "wxz1LW62JXUi"
      },
      "source": [
        "Now we can draw the graph using `positions` to indicate the positions of the nodes, and `drive_times` to label the edges."
      ]
    },
    {
      "cell_type": "code",
      "execution_count": 261,
      "metadata": {
        "tags": [],
        "id": "lhfxQwgSJXUi",
        "outputId": "22968db4-9b8b-4c99-da34-f9cddcff3572",
        "colab": {
          "base_uri": "https://localhost:8080/",
          "height": 319
        }
      },
      "outputs": [
        {
          "output_type": "display_data",
          "data": {
            "image/png": "[encoded data removed]",
            "text/plain": [
              "<Figure size 432x288 with 1 Axes>"
            ]
          },
          "metadata": {}
        }
      ],
      "source": [
        "nx.draw(G, positions, \n",
        "        node_color='C1', \n",
        "        node_shape='s', \n",
        "        node_size=2500, \n",
        "        with_labels=True)\n",
        "\n",
        "nx.draw_networkx_edge_labels(G, positions, \n",
        "                             edge_labels=drive_times)\n",
        "\n",
        "plt.axis('equal')\n",
        "plt.show('figs/chap03-2')"
      ]
    },
    {
      "cell_type": "markdown",
      "metadata": {
        "id": "6yhHJfx7JXUi"
      },
      "source": [
        "**Exercise:**  Add another city and at least one edge."
      ]
    },
    {
      "cell_type": "code",
      "execution_count": 262,
      "metadata": {
        "id": "gsjF-lqiJXUi",
        "colab": {
          "base_uri": "https://localhost:8080/",
          "height": 319
        },
        "outputId": "ea98af75-fd6c-4b56-df9e-95b20c0bae38"
      },
      "outputs": [
        {
          "output_type": "display_data",
          "data": {
            "image/png": "[encoded data removed]",
            "text/plain": [
              "<Figure size 432x288 with 1 Axes>"
            ]
          },
          "metadata": {}
        }
      ],
      "source": [
        "# Solution goes here\n",
        "positions['Toronto'] = (-79,44)\n",
        "drive_times[('Albany', 'Toronto')] = 6\n",
        "\n",
        "G.add_edges_from(drive_times)\n",
        "G.edges()\n",
        "\n",
        "nx.draw(G, positions, \n",
        "        node_color='C1', \n",
        "        node_shape='s', \n",
        "        node_size=2000, \n",
        "        with_labels=True)\n",
        "\n",
        "nx.draw_networkx_edge_labels(G, positions, \n",
        "                             edge_labels=drive_times)\n",
        "\n",
        "plt.axis('equal')\n",
        "plt.show('figs/chap03-2')\n"
      ]
    },
    {
      "cell_type": "markdown",
      "metadata": {
        "id": "cTL0PHmeJXUi"
      },
      "source": [
        "## Complete graph\n",
        "\n",
        "To make a complete graph, we use a generator function that iterates through all pairs of nodes."
      ]
    },
    {
      "cell_type": "code",
      "execution_count": 263,
      "metadata": {
        "id": "899rGbR8JXUj"
      },
      "outputs": [],
      "source": [
        "def all_pairs(nodes):\n",
        "    for i, u in enumerate(nodes):\n",
        "        for j, v in enumerate(nodes):\n",
        "            if i < j:\n",
        "                yield u, v"
      ]
    },
    {
      "cell_type": "markdown",
      "metadata": {
        "id": "GDMJvD3IJXUj"
      },
      "source": [
        "`make_complete_graph` makes a `Graph` with the given number of nodes and edges between all pairs of nodes."
      ]
    },
    {
      "cell_type": "code",
      "execution_count": 264,
      "metadata": {
        "id": "mN6TmqTwJXUj"
      },
      "outputs": [],
      "source": [
        "def make_complete_graph(n):\n",
        "    G = nx.Graph()\n",
        "    nodes = range(n)\n",
        "    G.add_nodes_from(nodes)\n",
        "    G.add_edges_from(all_pairs(nodes))\n",
        "    return G"
      ]
    },
    {
      "cell_type": "markdown",
      "metadata": {
        "id": "fFHClT3zJXUj"
      },
      "source": [
        "Here's a complete graph with 10 nodes:"
      ]
    },
    {
      "cell_type": "code",
      "execution_count": 265,
      "metadata": {
        "id": "14-IvrTQJXUj",
        "outputId": "d250c511-eaf2-4c5f-cfb5-7211c76f00bc",
        "colab": {
          "base_uri": "https://localhost:8080/"
        }
      },
      "outputs": [
        {
          "output_type": "execute_result",
          "data": {
            "text/plain": [
              "10"
            ]
          },
          "metadata": {},
          "execution_count": 265
        }
      ],
      "source": [
        "complete = make_complete_graph(10)\n",
        "complete.number_of_nodes()"
      ]
    },
    {
      "cell_type": "markdown",
      "metadata": {
        "id": "FMBTzA-KJXUj"
      },
      "source": [
        "And here's what it looks like."
      ]
    },
    {
      "cell_type": "code",
      "execution_count": 266,
      "metadata": {
        "tags": [],
        "id": "FZUKnp5NJXUk",
        "outputId": "078edc3e-8cfc-490c-d519-3275cc3def51",
        "colab": {
          "base_uri": "https://localhost:8080/",
          "height": 319
        }
      },
      "outputs": [
        {
          "output_type": "display_data",
          "data": {
            "image/png": "[encoded data removed]",
            "text/plain": [
              "<Figure size 432x288 with 1 Axes>"
            ]
          },
          "metadata": {}
        }
      ],
      "source": [
        "nx.draw_circular(complete, \n",
        "                 node_color='C2', \n",
        "                 node_size=1000, \n",
        "                 with_labels=True)\n",
        "plt.show('figs/chap03-3')"
      ]
    },
    {
      "cell_type": "markdown",
      "metadata": {
        "id": "9Ng5rzwiJXUk"
      },
      "source": [
        "The `neighbors` method the neighbors for a given node."
      ]
    },
    {
      "cell_type": "code",
      "execution_count": 267,
      "metadata": {
        "id": "vhJgH79QJXUk",
        "outputId": "39e2c44f-a96e-493c-a6ef-1e7a44596ceb",
        "colab": {
          "base_uri": "https://localhost:8080/"
        }
      },
      "outputs": [
        {
          "output_type": "execute_result",
          "data": {
            "text/plain": [
              "[1, 2, 3, 4, 5, 6, 7, 8, 9]"
            ]
          },
          "metadata": {},
          "execution_count": 267
        }
      ],
      "source": [
        "list(complete.neighbors(0))"
      ]
    },
    {
      "cell_type": "markdown",
      "metadata": {
        "id": "KVJ_pluhJXUk"
      },
      "source": [
        "**Exercise:** Make and draw complete directed graph with 5 nodes."
      ]
    },
    {
      "cell_type": "code",
      "execution_count": 268,
      "metadata": {
        "id": "eROieoUNJXUk",
        "colab": {
          "base_uri": "https://localhost:8080/",
          "height": 319
        },
        "outputId": "fc75ba88-2797-4417-8bcd-994469d73e06"
      },
      "outputs": [
        {
          "output_type": "display_data",
          "data": {
            "image/png": "[encoded data removed]",
            "text/plain": [
              "<Figure size 432x288 with 1 Axes>"
            ]
          },
          "metadata": {}
        }
      ],
      "source": [
        "# Solution goes here\n",
        "def directed_pairs(nodes):\n",
        "    for i,u in enumerate(nodes):\n",
        "      for j,v in enumerate(nodes):\n",
        "        yield u,v\n",
        "      \n",
        "def make_directed_graph(n):\n",
        "    G = nx.DiGraph()\n",
        "    nodes = range(n)\n",
        "    G.add_nodes_from(nodes)\n",
        "    G.add_edges_from(directed_pairs(nodes))\n",
        "    return G\n",
        "\n",
        "\n",
        "graph = make_directed_graph(5)\n",
        "\n",
        "nx.draw_circular(graph, \n",
        "                 node_color='C9', \n",
        "                 node_size=1000, \n",
        "                 with_labels=True)"
      ]
    },
    {
      "cell_type": "markdown",
      "metadata": {
        "id": "uXKbT1hIJXUk"
      },
      "source": [
        "## Random graphs\n",
        "\n",
        "Next we'll make a random graph where the probability of an edge between each pair of nodes is $p$.\n",
        "\n",
        "The helper function `flip` returns True with probability `p` and False with probability `1-p`"
      ]
    },
    {
      "cell_type": "code",
      "execution_count": 269,
      "metadata": {
        "id": "d1iYydgJJXUl"
      },
      "outputs": [],
      "source": [
        "def flip(p):\n",
        "    return np.random.random() < p"
      ]
    },
    {
      "cell_type": "markdown",
      "metadata": {
        "id": "c9dEV5hkJXUl"
      },
      "source": [
        "`random_pairs` is a generator function that enumerates all possible pairs of nodes and yields each one with probability `p` "
      ]
    },
    {
      "cell_type": "code",
      "execution_count": 270,
      "metadata": {
        "id": "0QG5ddSBJXUl"
      },
      "outputs": [],
      "source": [
        "def random_pairs(nodes, p):\n",
        "    for edge in all_pairs(nodes):\n",
        "        if flip(p):\n",
        "            yield edge"
      ]
    },
    {
      "cell_type": "markdown",
      "metadata": {
        "id": "BREfjub7JXUl"
      },
      "source": [
        "`make_random_graph` makes an ER graph where the probability of an edge between each pair of nodes is `p`."
      ]
    },
    {
      "cell_type": "code",
      "execution_count": 271,
      "metadata": {
        "id": "GcxNT-c5JXUl"
      },
      "outputs": [],
      "source": [
        "def make_random_graph(n, p):\n",
        "    G = nx.Graph()\n",
        "    nodes = range(n)\n",
        "    G.add_nodes_from(nodes)\n",
        "    G.add_edges_from(random_pairs(nodes, p))\n",
        "    return G"
      ]
    },
    {
      "cell_type": "markdown",
      "metadata": {
        "id": "YiE3KTnNJXUl"
      },
      "source": [
        "Here's an example with `n=10` and `p=0.3`"
      ]
    },
    {
      "cell_type": "code",
      "execution_count": 272,
      "metadata": {
        "id": "NzFO9SCRJXUl",
        "outputId": "f32630f2-be7e-42ed-fd19-ad74b3f56013",
        "colab": {
          "base_uri": "https://localhost:8080/"
        }
      },
      "outputs": [
        {
          "output_type": "execute_result",
          "data": {
            "text/plain": [
              "14"
            ]
          },
          "metadata": {},
          "execution_count": 272
        }
      ],
      "source": [
        "np.random.seed()\n",
        "\n",
        "random_graph = make_random_graph(10, 0.3)\n",
        "len(random_graph.edges())"
      ]
    },
    {
      "cell_type": "markdown",
      "metadata": {
        "id": "uq6MDFSYJXUl"
      },
      "source": [
        "And here's what it looks like:"
      ]
    },
    {
      "cell_type": "code",
      "execution_count": 273,
      "metadata": {
        "id": "CwkDjn3wJXUm",
        "outputId": "195eb5d3-827a-487f-974d-b8bed3a9152a",
        "colab": {
          "base_uri": "https://localhost:8080/",
          "height": 319
        }
      },
      "outputs": [
        {
          "output_type": "display_data",
          "data": {
            "image/png": "[encoded data removed]",
            "text/plain": [
              "<Figure size 432x288 with 1 Axes>"
            ]
          },
          "metadata": {}
        }
      ],
      "source": [
        "nx.draw_circular(random_graph, \n",
        "                 node_color='C3', \n",
        "                 node_size=1000, \n",
        "                 with_labels=True)\n",
        "plt.show('figs/chap02-4')"
      ]
    },
    {
      "cell_type": "markdown",
      "metadata": {
        "id": "PBPDQhHYJXUm"
      },
      "source": [
        "## Connectivity\n",
        "\n",
        "To check whether a graph is connected, we'll start by finding all nodes that can be reached, starting with a given node:"
      ]
    },
    {
      "cell_type": "code",
      "execution_count": 274,
      "metadata": {
        "id": "13E0f1MmJXUm"
      },
      "outputs": [],
      "source": [
        "def reachable_nodes(G, start):\n",
        "    seen = set()\n",
        "    stack = [start]\n",
        "    while stack:\n",
        "        node = stack.pop()\n",
        "        if node not in seen:\n",
        "            seen.add(node)\n",
        "            stack.extend(G.neighbors(node))\n",
        "    return seen"
      ]
    },
    {
      "cell_type": "markdown",
      "metadata": {
        "id": "5IdO0xv9JXUm"
      },
      "source": [
        "In the complete graph, starting from node 0, we can reach all nodes:"
      ]
    },
    {
      "cell_type": "code",
      "execution_count": 275,
      "metadata": {
        "id": "MQdjRdtqJXUm",
        "outputId": "fa22e077-de71-49f2-ff0c-91118a2f8af3",
        "colab": {
          "base_uri": "https://localhost:8080/"
        }
      },
      "outputs": [
        {
          "output_type": "execute_result",
          "data": {
            "text/plain": [
              "{0, 1, 2, 3, 4, 5, 6, 7, 8, 9}"
            ]
          },
          "metadata": {},
          "execution_count": 275
        }
      ],
      "source": [
        "reachable_nodes(complete, 0)"
      ]
    },
    {
      "cell_type": "markdown",
      "metadata": {
        "id": "Ht_JIsvMJXUm"
      },
      "source": [
        "In the random graph we generated, we can also reach all nodes (but that's not always true):"
      ]
    },
    {
      "cell_type": "code",
      "execution_count": 276,
      "metadata": {
        "id": "RrFnObPSJXUm",
        "outputId": "b5d705a8-7e04-4ace-b4c6-fbaa10025ae2",
        "colab": {
          "base_uri": "https://localhost:8080/"
        }
      },
      "outputs": [
        {
          "output_type": "execute_result",
          "data": {
            "text/plain": [
              "{0, 1, 2, 3, 4, 5, 6, 7, 8, 9}"
            ]
          },
          "metadata": {},
          "execution_count": 276
        }
      ],
      "source": [
        "reachable_nodes(random_graph, 1)"
      ]
    },
    {
      "cell_type": "markdown",
      "metadata": {
        "id": "D5NaWyFxJXUm"
      },
      "source": [
        "We can use `reachable_nodes` to check whether a graph is connected:"
      ]
    },
    {
      "cell_type": "code",
      "execution_count": 277,
      "metadata": {
        "id": "iHEuXI4dJXUn"
      },
      "outputs": [],
      "source": [
        "def is_connected(G):\n",
        "    start = next(iter(G))\n",
        "    reachable = reachable_nodes(G, start)\n",
        "    return len(reachable) == len(G)"
      ]
    },
    {
      "cell_type": "markdown",
      "metadata": {
        "id": "ghbxClDPJXUn"
      },
      "source": [
        "Again, the complete graph is connected:"
      ]
    },
    {
      "cell_type": "code",
      "execution_count": 278,
      "metadata": {
        "id": "nBqM30r2JXUn",
        "outputId": "8a8bace1-ca2b-42f9-952f-6106f8e9a481",
        "colab": {
          "base_uri": "https://localhost:8080/"
        }
      },
      "outputs": [
        {
          "output_type": "execute_result",
          "data": {
            "text/plain": [
              "True"
            ]
          },
          "metadata": {},
          "execution_count": 278
        }
      ],
      "source": [
        "is_connected(complete)"
      ]
    },
    {
      "cell_type": "markdown",
      "metadata": {
        "id": "OLsG9uBzJXUn"
      },
      "source": [
        "But if we generate a random graph with a low value of `p`, it's not:"
      ]
    },
    {
      "cell_type": "code",
      "execution_count": 279,
      "metadata": {
        "id": "J5sv7fOdJXUn",
        "outputId": "82595659-b945-4802-c58e-0b5ef78a9b3f",
        "colab": {
          "base_uri": "https://localhost:8080/"
        }
      },
      "outputs": [
        {
          "output_type": "execute_result",
          "data": {
            "text/plain": [
              "6"
            ]
          },
          "metadata": {},
          "execution_count": 279
        }
      ],
      "source": [
        "random_graph = make_random_graph(10, 0.1)\n",
        "len(random_graph.edges())"
      ]
    },
    {
      "cell_type": "code",
      "execution_count": 280,
      "metadata": {
        "id": "s-cLggbMJXUn",
        "outputId": "5543d91a-4d41-469d-a565-4b89980ac2f6",
        "colab": {
          "base_uri": "https://localhost:8080/"
        }
      },
      "outputs": [
        {
          "output_type": "execute_result",
          "data": {
            "text/plain": [
              "False"
            ]
          },
          "metadata": {},
          "execution_count": 280
        }
      ],
      "source": [
        "is_connected(random_graph)"
      ]
    },
    {
      "cell_type": "markdown",
      "metadata": {
        "id": "CTjV06VmJXUn"
      },
      "source": [
        "**Exercise:** What do you think it means for a directed graph to be connected?  Write a function that checks whether a directed graph is connected."
      ]
    },
    {
      "cell_type": "markdown",
      "source": [
        "For a directed graph to be connected means that it is possible to reach every other node fromany starting node. "
      ],
      "metadata": {
        "id": "W2sxTrb5QIIi"
      }
    },
    {
      "cell_type": "code",
      "execution_count": 281,
      "metadata": {
        "id": "-mhqjJHzJXUo",
        "colab": {
          "base_uri": "https://localhost:8080/",
          "height": 354
        },
        "outputId": "c0368396-c7a0-4d3c-a57d-52b903d93bdd"
      },
      "outputs": [
        {
          "output_type": "stream",
          "name": "stdout",
          "text": [
            "False\n"
          ]
        },
        {
          "output_type": "execute_result",
          "data": {
            "text/plain": [
              "[1, 4]"
            ]
          },
          "metadata": {},
          "execution_count": 281
        },
        {
          "output_type": "display_data",
          "data": {
            "image/png": "[encoded data removed]",
            "text/plain": [
              "<Figure size 432x288 with 1 Axes>"
            ]
          },
          "metadata": {}
        }
      ],
      "source": [
        "# Solution goes here\n",
        "\n",
        "def make_random_directed_graph(n, p):#this function does not really make a random directed graph, but it made a graph that I could run tests on\n",
        "    G = nx.DiGraph()\n",
        "    nodes = range(n)\n",
        "    G.add_nodes_from(nodes)\n",
        "    G.add_edges_from(random_pairs(nodes, p))\n",
        "    return G\n",
        "\n",
        "def directed_reachable_nodes(G, start):\n",
        "    seen = set()\n",
        "    stack = [start]\n",
        "    while stack:\n",
        "        node = stack.pop()\n",
        "        if node not in seen and len(list(G.neighbors(node))) > 0: # A node has to have at least one neighbour for the graph to be connected\n",
        "            seen.add(node)\n",
        "            stack.extend(G.neighbors(node))\n",
        "    if len(list(seen)) == len(list(G)):\n",
        "      return True\n",
        "    else:\n",
        "      return False\n",
        "\n",
        "\n",
        "graph = make_random_directed_graph(5, 0.5)\n",
        "nx.draw_circular(graph, \n",
        "                 node_color='C9', \n",
        "                 node_size=1000, \n",
        "                 with_labels=True)\n",
        "print(directed_reachable_nodes(graph, 0))\n",
        "list(graph.neighbors(0))"
      ]
    },
    {
      "cell_type": "markdown",
      "metadata": {
        "id": "Is1ZvaMRJXUo"
      },
      "source": [
        "## Probability of connectivity\n",
        "\n",
        "Now let's estimare the probability that a randomly-generated ER graph is connected.\n",
        "\n",
        "This function takes `n` and `p`, generates `iters` graphs, and returns the fraction of them that are connected."
      ]
    },
    {
      "cell_type": "code",
      "execution_count": 317,
      "metadata": {
        "id": "eQ6mH0_VJXUo"
      },
      "outputs": [],
      "source": [
        "# version with a for loop\n",
        "\n",
        "def prob_connected(n, p, iters=100):\n",
        "    count = 0\n",
        "    for i in range(iters):\n",
        "        random_graph = make_random_graph(n, p)\n",
        "        if is_connected(random_graph):\n",
        "            count += 1\n",
        "    return count/iters"
      ]
    },
    {
      "cell_type": "code",
      "execution_count": 318,
      "metadata": {
        "id": "NpgMbPDLJXUo"
      },
      "outputs": [],
      "source": [
        "# version with a list comprehension\n",
        "\n",
        "def prob_connected(n, p, iters=100):\n",
        "    tf = [is_connected(make_random_graph(n, p))\n",
        "          for i in range(iters)]\n",
        "    return np.mean(tf)"
      ]
    },
    {
      "cell_type": "markdown",
      "metadata": {
        "id": "Nkn-EvXrJXUo"
      },
      "source": [
        "With `n=10` and `p=0.23`, the probability of being connected is about 33%."
      ]
    },
    {
      "cell_type": "code",
      "execution_count": 319,
      "metadata": {
        "id": "zpAiuH8AJXUo",
        "outputId": "e0b993c0-7ff8-468e-9a1a-0f168f07dd5c",
        "colab": {
          "base_uri": "https://localhost:8080/"
        }
      },
      "outputs": [
        {
          "output_type": "execute_result",
          "data": {
            "text/plain": [
              "0.3393"
            ]
          },
          "metadata": {},
          "execution_count": 319
        }
      ],
      "source": [
        "np.random.seed(17)\n",
        "\n",
        "n = 10\n",
        "prob_connected(n, 0.23, iters=10000)"
      ]
    },
    {
      "cell_type": "markdown",
      "metadata": {
        "id": "wYRAq8ygJXUo"
      },
      "source": [
        "According to Erdos and Renyi, the critical value of `p` for `n=10` is about 0.23. "
      ]
    },
    {
      "cell_type": "code",
      "execution_count": 320,
      "metadata": {
        "id": "t9X-f1vKJXUo",
        "outputId": "98a1a7d8-1ccb-425b-f008-c7b1da7a8bcb",
        "colab": {
          "base_uri": "https://localhost:8080/"
        }
      },
      "outputs": [
        {
          "output_type": "execute_result",
          "data": {
            "text/plain": [
              "0.23025850929940458"
            ]
          },
          "metadata": {},
          "execution_count": 320
        }
      ],
      "source": [
        "pstar = np.log(n) / n\n",
        "pstar"
      ]
    },
    {
      "cell_type": "markdown",
      "metadata": {
        "id": "xS_o2-UdJXUo"
      },
      "source": [
        "So let's plot the probability of connectivity for a range of values for `p`"
      ]
    },
    {
      "cell_type": "code",
      "execution_count": 321,
      "metadata": {
        "id": "BkFvOf98JXUp",
        "outputId": "7df69112-2987-47f8-a070-c82fda570f94",
        "colab": {
          "base_uri": "https://localhost:8080/"
        }
      },
      "outputs": [
        {
          "output_type": "execute_result",
          "data": {
            "text/plain": [
              "array([0.05011872, 0.0676083 , 0.09120108, 0.12302688, 0.16595869,\n",
              "       0.22387211, 0.30199517, 0.40738028, 0.54954087, 0.74131024,\n",
              "       1.        ])"
            ]
          },
          "metadata": {},
          "execution_count": 321
        }
      ],
      "source": [
        "ps = np.logspace(-1.3, 0, 11)\n",
        "ps"
      ]
    },
    {
      "cell_type": "markdown",
      "metadata": {
        "id": "P4VxTgv8JXUp"
      },
      "source": [
        "I'll estimate the probabilities with `iters=1000`"
      ]
    },
    {
      "cell_type": "code",
      "execution_count": 322,
      "metadata": {
        "tags": [],
        "id": "lHEdJUEpJXUp",
        "outputId": "99f06b36-3195-4518-f886-954d84a67521",
        "colab": {
          "base_uri": "https://localhost:8080/"
        }
      },
      "outputs": [
        {
          "output_type": "stream",
          "name": "stdout",
          "text": [
            "0.05011872336272722 0.0\n",
            "0.06760829753919818 0.0\n",
            "0.09120108393559097 0.004\n",
            "0.12302687708123815 0.016\n",
            "0.16595869074375605 0.109\n",
            "0.22387211385683395 0.346\n",
            "0.3019951720402016 0.664\n",
            "0.40738027780411273 0.899\n",
            "0.5495408738576245 0.989\n",
            "0.7413102413009173 1.0\n",
            "1.0 1.0\n"
          ]
        }
      ],
      "source": [
        "ys = [prob_connected(n, p, 1000) for p in ps]\n",
        "\n",
        "for p, y in zip(ps, ys):\n",
        "    print(p, y)"
      ]
    },
    {
      "cell_type": "markdown",
      "metadata": {
        "id": "BP7wAwqzJXUp"
      },
      "source": [
        "And then plot them, adding a vertical line at the computed critical value"
      ]
    },
    {
      "cell_type": "code",
      "execution_count": 323,
      "metadata": {
        "id": "gusUZpNJJXUp",
        "outputId": "3478eb46-ea5f-4cbd-a467-3ae7b8e21128",
        "colab": {
          "base_uri": "https://localhost:8080/",
          "height": 297
        }
      },
      "outputs": [
        {
          "output_type": "display_data",
          "data": {
            "image/png": "[encoded data removed]",
            "text/plain": [
              "<Figure size 432x288 with 1 Axes>"
            ]
          },
          "metadata": {
            "needs_background": "light"
          }
        }
      ],
      "source": [
        "plt.axvline(pstar, color='gray')\n",
        "plt.plot(ps, ys, color='green')\n",
        "decorate(xlabel='Prob of edge (p)',\n",
        "                 ylabel='Prob connected',\n",
        "                 xscale='log')\n",
        "\n",
        "plt.show('figs/chap02-5')"
      ]
    },
    {
      "cell_type": "markdown",
      "metadata": {
        "id": "zNI3dAQnJXUp"
      },
      "source": [
        "We can run the same analysis for a few more values of `n`."
      ]
    },
    {
      "cell_type": "code",
      "execution_count": 303,
      "metadata": {
        "scrolled": false,
        "tags": [],
        "id": "Kved6akXJXUp"
      },
      "outputs": [],
      "source": [
        ""
      ]
    },
    {
      "cell_type": "markdown",
      "metadata": {
        "id": "WKTShKsTJXUp"
      },
      "source": [
        "As `n` increases, the critical value gets smaller and the transition gets more abrupt."
      ]
    },
    {
      "cell_type": "markdown",
      "metadata": {
        "id": "chyCuFXWJXUq"
      },
      "source": [
        "## Exercises"
      ]
    },
    {
      "cell_type": "markdown",
      "metadata": {
        "id": "4whe0LnhJXUq"
      },
      "source": [
        "**Exercise:** In Chapter 2 we analyzed the performance of `reachable_nodes` and classified it in $O(n + m)$, where $n$ is the number of nodes and $m$ is the number of edges.  Continuing the\n",
        "analysis, what is the order of growth for `is_connected`?\n",
        "\n",
        "    def is_connected(G):\n",
        "        start = list(G)[0]\n",
        "        reachable = reachable_nodes(G, start)\n",
        "        return len(reachable) == len(G)"
      ]
    },
    {
      "cell_type": "code",
      "execution_count": 292,
      "metadata": {
        "id": "cWz8qqKZJXUq"
      },
      "outputs": [],
      "source": [
        "# Solution goes here\n",
        "#Since the is_connected calls reachable nodes, and the order of reachable nodes is O(n+m). The order of is_connected is also  O(n+m)"
      ]
    },
    {
      "cell_type": "markdown",
      "metadata": {
        "id": "0sRyHxYeJXUq"
      },
      "source": [
        "**Exercise:** In my implementation of `reachable_nodes`, you might be bothered by the apparent inefficiency of adding *all* neighbors to the stack without checking whether they are already in `seen`.  Write a version of this function that checks the neighbors before adding them to the stack.  Does this \"optimization\" change the order of growth?  Does it make the function faster?"
      ]
    },
    {
      "cell_type": "code",
      "execution_count": 293,
      "metadata": {
        "id": "BahcHhWiJXUq"
      },
      "outputs": [],
      "source": [
        "complete = make_complete_graph(10)\n",
        "\n",
        "def reachable_nodes_precheck(G, start):\n",
        "    seen = set()\n",
        "    stack = [start]\n",
        "    while stack:\n",
        "        node = stack.pop()\n",
        "        if node not in seen:\n",
        "            seen.add(node)\n",
        "            for neighbor in G.neighbors(node):\n",
        "              if neighbor in stack:\n",
        "                pass \n",
        "              else:\n",
        "                stack.append(neighbor)\n",
        "    return seen\n",
        "\n",
        "# this function was far slower than reachable_nodes. It also scaled worse with larger graphs"
      ]
    },
    {
      "cell_type": "code",
      "execution_count": 294,
      "metadata": {
        "id": "ZQslOxOsJXUq"
      },
      "outputs": [],
      "source": [
        "# Solution goes here"
      ]
    },
    {
      "cell_type": "code",
      "execution_count": 295,
      "metadata": {
        "tags": [],
        "id": "CYO1jBybJXUq",
        "colab": {
          "base_uri": "https://localhost:8080/"
        },
        "outputId": "14390b72-f414-4190-9681-4c353af0d8f8"
      },
      "outputs": [
        {
          "output_type": "stream",
          "name": "stdout",
          "text": [
            "100000 loops, best of 5: 17 µs per loop\n"
          ]
        }
      ],
      "source": [
        "%timeit len(reachable_nodes(complete, 0))"
      ]
    },
    {
      "cell_type": "code",
      "execution_count": 296,
      "metadata": {
        "tags": [],
        "id": "Yt7lbmr0JXUq",
        "colab": {
          "base_uri": "https://localhost:8080/"
        },
        "outputId": "b681f53f-9b3a-477b-bfec-ce5ed8c1c62a"
      },
      "outputs": [
        {
          "output_type": "stream",
          "name": "stdout",
          "text": [
            "10000 loops, best of 5: 24.7 µs per loop\n"
          ]
        }
      ],
      "source": [
        "%timeit len(reachable_nodes_precheck(complete, 0)) "
      ]
    },
    {
      "cell_type": "markdown",
      "metadata": {
        "collapsed": true,
        "id": "8QcUsxqyJXUr"
      },
      "source": [
        "**Exercise:** There are actually two kinds of ER graphs.  The one we generated in the chapter, $G(n, p)$, is characterized by two parameters, the number of nodes and the probability of an edge between nodes.\n",
        "\n",
        "An alternative definition, denoted $G(n, m)$, is also characterized by two parameters: the number of nodes, $n$, and the number of edges, $m$.  Under this definition, the number of edges is fixed, but their location is random.\n",
        "\n",
        "Repeat the experiments we did in this chapter using this alternative definition.  Here are a few suggestions for how to proceed:\n",
        "\n",
        "1. Write a function called `m_pairs` that takes a list of nodes and the number of edges, $m$, and returns a random selection of $m$ edges.  A simple way to do that is to generate a list of all possible edges and use `random.sample`.\n",
        "\n",
        "2. Write a function called `make_m_graph` that takes $n$ and $m$ and returns a random graph with $n$ nodes and $m$ edges.\n",
        "\n",
        "3. Make a version of `prob_connected` that uses `make_m_graph` instead of `make_random_graph`.\n",
        "\n",
        "4. Compute the probability of connectivity for a range of values of $m$.\n",
        "\n",
        "How do the results of this experiment compare to the results using the first type of ER graph?"
      ]
    },
    {
      "cell_type": "code",
      "execution_count": 297,
      "metadata": {
        "id": "ix-3gKaAJXUr",
        "colab": {
          "base_uri": "https://localhost:8080/"
        },
        "outputId": "9f45db42-c829-41bd-bb26-dc78b1e5aaa7"
      },
      "outputs": [
        {
          "output_type": "stream",
          "name": "stdout",
          "text": [
            "[(3, 2), (4, 1), (4, 5)]\n",
            "(3, 2)\n",
            "(4, 1)\n",
            "(4, 5)\n"
          ]
        }
      ],
      "source": [
        "# Solution goes here\n",
        "def m_pairs(n,m):\n",
        "  pairs = []\n",
        "  for edge in range(m):\n",
        "    node1 = random.sample(n,1)\n",
        "    node2 = random.sample(n,1)\n",
        "    node1 = node1[0]\n",
        "    node2 = node2[0]\n",
        "    while node1 == node2 or (node1,node2) in pairs:\n",
        "      node1 = random.sample(n,1)\n",
        "      node2 = random.sample(n,1)\n",
        "      node1 = node1[0]\n",
        "      node2 = node2[0]\n",
        "    pairs.append((node1, node2))\n",
        "  return pairs\n",
        "\n",
        "u = m_pairs([1,2,3,4,5], 3) \n",
        "print(u)\n",
        "for i in u:\n",
        "  print(i)"
      ]
    },
    {
      "cell_type": "code",
      "execution_count": 298,
      "metadata": {
        "id": "bKno2ecYJXUr",
        "colab": {
          "base_uri": "https://localhost:8080/",
          "height": 319
        },
        "outputId": "9e5c3880-0d0f-4fbc-a373-0b38349a65a0"
      },
      "outputs": [
        {
          "output_type": "display_data",
          "data": {
            "image/png": "[encoded data removed]",
            "text/plain": [
              "<Figure size 432x288 with 1 Axes>"
            ]
          },
          "metadata": {}
        }
      ],
      "source": [
        "# Solution goes here\n",
        "def make_m_graph(n,m):\n",
        "    G = nx.Graph()\n",
        "    nodes = range(n)\n",
        "    G.add_nodes_from(nodes)\n",
        "    edges = m_pairs(nodes,m)\n",
        "    G.add_edges_from(edges)\n",
        "    return G\n",
        "\n",
        "graph = make_m_graph(10,4)\n",
        "nx.draw_circular(graph, \n",
        "                 node_color='C9', \n",
        "                 node_size=1000, \n",
        "                 with_labels=True)\n",
        "\n"
      ]
    },
    {
      "cell_type": "code",
      "execution_count": 299,
      "metadata": {
        "id": "SIR3B0BLJXUr",
        "colab": {
          "base_uri": "https://localhost:8080/"
        },
        "outputId": "91d767a5-f9fb-4934-9926-d7adddc7b861"
      },
      "outputs": [
        {
          "output_type": "execute_result",
          "data": {
            "text/plain": [
              "1.0"
            ]
          },
          "metadata": {},
          "execution_count": 299
        }
      ],
      "source": [
        "# Solution goes here\n",
        "def my_prob_connected(n, m, iters=100):\n",
        "    tf = [is_connected(make_m_graph(n,m))\n",
        "          for i in range(iters)]\n",
        "    return np.mean(tf)\n",
        "\n",
        "my_prob_connected(5,16)\n"
      ]
    },
    {
      "cell_type": "code",
      "execution_count": 311,
      "metadata": {
        "id": "Gju9yIlOJXUr",
        "colab": {
          "base_uri": "https://localhost:8080/"
        },
        "outputId": "7a81a47a-565e-4a47-bdd6-fc2ac5b8d493"
      },
      "outputs": [
        {
          "output_type": "stream",
          "name": "stdout",
          "text": [
            "[0.0, 0.0, 0.0, 0.0, 0.0, 0.0, 0.0, 0.0, 0.0, 0.0, 0.0, 0.0, 0.0, 0.0, 0.0, 0.0, 0.0, 0.0, 0.0, 0.0, 0.0, 0.0, 0.0, 0.0, 0.0, 0.0, 0.0, 0.0, 0.0, 0.0, 0.0, 0.0, 0.0, 0.0, 0.0, 0.0, 0.0, 0.0, 0.0, 0.0, 0.0, 0.0, 0.0, 0.0, 0.0, 0.0, 0.0, 0.0, 0.0, 0.0, 0.0, 0.0, 0.0, 0.0, 0.0, 0.0, 0.0, 0.0, 0.0, 0.0, 0.02, 0.0, 0.01, 0.01, 0.02, 0.01, 0.03, 0.02, 0.04, 0.06, 0.04, 0.05, 0.04, 0.04, 0.05, 0.03, 0.05, 0.07, 0.1, 0.09, 0.19, 0.19, 0.11, 0.13, 0.08, 0.2, 0.15, 0.17, 0.22, 0.2, 0.35, 0.3, 0.32, 0.42, 0.34, 0.43, 0.32, 0.42, 0.39, 0.43, 0.44, 0.43, 0.45, 0.45, 0.55, 0.55, 0.44, 0.56, 0.64, 0.62, 0.59, 0.6, 0.57, 0.55, 0.62, 0.66, 0.65, 0.72, 0.73, 0.68, 0.66, 0.78, 0.71, 0.79, 0.78, 0.8, 0.78, 0.77, 0.76, 0.78, 0.81, 0.86, 0.84, 0.83, 0.86, 0.82, 0.88, 0.86, 0.87, 0.85, 0.88, 0.84, 0.88, 0.85, 0.89, 0.88, 0.91, 0.91, 0.94, 0.98, 0.95, 0.93, 0.95, 0.95, 0.95, 0.97, 0.93, 0.91, 0.94, 0.98, 0.95, 0.96, 0.95, 0.95, 0.95, 0.97, 0.95, 0.93, 0.96, 0.94, 0.97, 0.93, 0.92, 0.93, 0.95, 0.99, 0.99, 0.99, 0.93, 0.98, 0.96, 1.0, 0.97, 0.99, 1.0, 0.98, 1.0, 1.0, 0.99, 0.99, 0.98, 0.99, 0.99, 0.94, 1.0, 0.99, 0.98, 1.0, 0.99, 0.99]\n"
          ]
        }
      ],
      "source": [
        "n = 50\n",
        "y = [my_prob_connected(n,i+1) for i in range(200)]\n",
        "m = [i+1 for i in range(200)]\n",
        "print(y)\n",
        "\n",
        "\n"
      ]
    },
    {
      "cell_type": "code",
      "source": [
        "plt.axvline(pstar, color='gray')\n",
        "plt.plot(m, y, color='green')\n",
        "decorate(xlabel='Number of edges (m)',\n",
        "                 ylabel='Prob connected',\n",
        "                 xscale='linear')\n",
        "\n"
      ],
      "metadata": {
        "colab": {
          "base_uri": "https://localhost:8080/",
          "height": 297
        },
        "id": "GnFWnA8dJ1z8",
        "outputId": "58d79b69-ee94-417b-e2c5-515b6e800cf3"
      },
      "execution_count": 312,
      "outputs": [
        {
          "output_type": "display_data",
          "data": {
            "image/png": "[encoded data removed]",
            "text/plain": [
              "<Figure size 432x288 with 1 Axes>"
            ]
          },
          "metadata": {
            "needs_background": "light"
          }
        }
      ]
    },
    {
      "cell_type": "code",
      "source": [
        "plt.axvline(pstar, color='gray')\n",
        "plt.plot(ps, ys, color='green')\n",
        "decorate(xlabel='Prob of edge (p)',\n",
        "                 ylabel='Prob connected',\n",
        "                 xscale='linear')"
      ],
      "metadata": {
        "colab": {
          "base_uri": "https://localhost:8080/",
          "height": 297
        },
        "id": "ZUVK6Ym6MQG2",
        "outputId": "59ec646e-8a13-4c3c-df41-ecf5b9167069"
      },
      "execution_count": 325,
      "outputs": [
        {
          "output_type": "display_data",
          "data": {
            "image/png": "[encoded data removed]",
            "text/plain": [
              "<Figure size 432x288 with 1 Axes>"
            ]
          },
          "metadata": {
            "needs_background": "light"
          }
        }
      ]
    },
    {
      "cell_type": "markdown",
      "source": [
        "The two graphs have very different x axis. For the graph plotting number of edges, I found it was better to use a linear graph rather than a logerithmic graph. They both have a similar shape. They both exihibit exponetial growth followed by exponential decay\n"
      ],
      "metadata": {
        "id": "RPMqr5XTNmux"
      }
    }
  ],
  "metadata": {
    "kernelspec": {
      "display_name": "Python 3.8.3 32-bit",
      "language": "python",
      "name": "python_defaultSpec_1594390793206"
    },
    "language_info": {
      "codemirror_mode": {
        "name": "ipython",
        "version": 3
      },
      "file_extension": ".py",
      "mimetype": "text/x-python",
      "name": "python",
      "nbconvert_exporter": "python",
      "pygments_lexer": "ipython3",
      "version": "3.7.7"
    },
    "colab": {
      "name": "lab4_Comp215_DexterHine.ipynb",
      "provenance": [],
      "include_colab_link": true
    }
  },
  "nbformat": 4,
  "nbformat_minor": 0
}