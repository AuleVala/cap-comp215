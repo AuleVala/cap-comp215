{
  "cells": [
    {
      "cell_type": "markdown",
      "metadata": {
        "id": "view-in-github",
        "colab_type": "text"
      },
      "source": [
        "<a href=\"https://colab.research.google.com/github/AuleVala/cap-comp215/blob/main/Dexter_Hine_COMP_215_Lab1.ipynb\" target=\"_parent\"><img src=\"https://colab.research.google.com/assets/colab-badge.svg\" alt=\"Open In Colab\"/></a>"
      ]
    },
    {
      "cell_type": "markdown",
      "metadata": {
        "collapsed": true,
        "pycharm": {
          "name": "#%% md\n"
        },
        "id": "UO4namhuBH3l"
      },
      "source": [
        "COMP 215 - LAB 1\n",
        "----------------\n",
        "#### Name: Dexrer Hine\n",
        "#### Date: 10/01/2022\n",
        "This lab exercise is mostly to introduce some of the power in Jupyter Notebooks.\n",
        "Note that a Notebook is composed of \"cells\" - some are \"text\", like this one, while others are \"code\"\n",
        "\n",
        "The code cell below simply imports all the modules we'll be using..."
      ]
    },
    {
      "cell_type": "code",
      "source": [
        "import datetime, json, requests\n",
        "import matplotlib.pyplot as plt\n",
        "import  matplotlib.dates as mdates\n",
        "from pprint import pprint #pprint is pretty print\n"
      ],
      "metadata": {
        "pycharm": {
          "name": "#%%\n"
        },
        "id": "DqSJNdSdBH3n"
      },
      "execution_count": 79,
      "outputs": []
    },
    {
      "cell_type": "markdown",
      "source": [
        "Now, let's fetch some Covid-19 daily case-count data from:  https://opencovid.ca/api/\n",
        "\n",
        "Query:\n",
        "  - `stat=cases`        # the type of data to fetch\n",
        "  - `loc=BC`            # the location to fetch data for\n",
        "  - `after=01-12-2021`  # since the 1st of december (note date format:  dd-mm-yyyy)"
      ],
      "metadata": {
        "collapsed": false,
        "id": "0rnf67FTBH3p"
      }
    },
    {
      "cell_type": "code",
      "execution_count": 80,
      "outputs": [],
      "source": [
        "query = 'https://api.opencovid.ca/timeseries?stat=cases&loc=BC&after=01-12-2021'\n",
        "\n",
        "response = requests.request(\"GET\", query, headers={}, data={}) \n"
      ],
      "metadata": {
        "pycharm": {
          "name": "#%%\n"
        },
        "id": "Al2T68b2BH3p"
      }
    },
    {
      "cell_type": "markdown",
      "source": [
        "Notice that the response is just a string of text (most data is exchanged on the web as plain text!)\n",
        "\n",
        "The `json.loads` function \"parses\" such text and loads the data into a dictionary..."
      ],
      "metadata": {
        "collapsed": false,
        "pycharm": {
          "name": "#%% md\n"
        },
        "id": "np4HQTmABH3q"
      }
    },
    {
      "cell_type": "code",
      "execution_count": 81,
      "outputs": [],
      "source": [
        "result = json.loads(response.text)\n"
      ],
      "metadata": {
        "pycharm": {
          "name": "#%%\n"
        },
        "id": "M5wV1C_0BH3q"
      }
    },
    {
      "cell_type": "markdown",
      "source": [
        "Next we use \"list comprehension\" to extract the list of dates and associated cases into \"parallel lists\"\n",
        "\n",
        "Notice how we convert the date strings, using strptime, into a real date objects so they are easier to work with (format: dd-mm-yyyy)"
      ],
      "metadata": {
        "collapsed": false,
        "pycharm": {
          "name": "#%% md\n"
        },
        "id": "dAXX9kuZBH3r"
      }
    },
    {
      "cell_type": "code",
      "execution_count": 82,
      "outputs": [],
      "source": [
        "#date_strings = [daily['date_report'] for daily in result['cases']]\n",
        "#dates = [datetime.datetime.strptime(date, '%d-%m-%Y').date() for date in date_strings]\n",
        "#cases = [daily['cases'] for daily in result['cases']]\n",
        "#print(dates[0])\n",
        "#print(cases)"
      ],
      "metadata": {
        "pycharm": {
          "name": "#%%\n"
        },
        "id": "JOFe4vNCBH3s"
      }
    },
    {
      "cell_type": "markdown",
      "source": [
        "## Exercise 1\n",
        "\n",
        "In the code cell below, re-write each of the 3 \"list comprehensions\" above as a loop so you understand how they work.\n",
        "\n",
        "Notice that a \"list comprehension\" is a compact way to write a \"list accumlator\" algorithm (and more efficient too!)"
      ],
      "metadata": {
        "collapsed": false,
        "pycharm": {
          "name": "#%% md\n"
        },
        "id": "koVKiju9BH3s"
      }
    },
    {
      "cell_type": "code",
      "execution_count": 83,
      "outputs": [],
      "source": [
        "# Your code here\n",
        "\n",
        "def listify_health_data(result):\n",
        "  cases = []\n",
        "  date_strings = []\n",
        "  dates = []\n",
        "  for days in range(len(result['cases'])):\n",
        "    cases.append(result['cases'][days]['cases'])\n",
        "    date_strings.append(result['cases'][days]['date_report'])\n",
        "    dates.append(datetime.datetime.strptime(date_strings[days], '%d-%m-%Y').date())\n",
        "  return [cases, dates]\n",
        "\n",
        "cases_and_dates = listify_health_data(result)\n",
        "cases = cases_and_dates[0]\n",
        "dates = cases_and_dates[1]"
      ],
      "metadata": {
        "pycharm": {
          "name": "#%%\n"
        },
        "id": "aa5xLcWEBH3t"
      }
    },
    {
      "cell_type": "markdown",
      "source": [
        "Finally, we'll plot the (dates,cases) data as a nice x-y line graph.\n",
        "\n",
        "The code to format the x-axis labels is taken from https://matplotlib.org/stable/gallery/ticks/date_concise_formatter.html\n",
        "\n"
      ],
      "metadata": {
        "collapsed": false,
        "id": "2ow28BuTBH3u"
      }
    },
    {
      "cell_type": "code",
      "execution_count": 84,
      "outputs": [
        {
          "output_type": "display_data",
          "data": {
            "image/png": "[encoded data removed]",
            "text/plain": [
              "<Figure size 432x288 with 1 Axes>"
            ]
          },
          "metadata": {
            "needs_background": "light"
          }
        }
      ],
      "source": [
        "def format_date_axis(ax):\n",
        "  \"\"\" format the dates shown on the x-axis of given axes, ax  \"\"\"\n",
        "  locator = mdates.AutoDateLocator(minticks=10, maxticks=20)\n",
        "  formatter = mdates.ConciseDateFormatter(locator)\n",
        "  ax.xaxis.set_major_locator(locator)\n",
        "  ax.xaxis.set_major_formatter(formatter)\n",
        "\n",
        "fig, ax = plt.subplots()\n",
        "format_date_axis(ax)\n",
        "ax.plot(dates, cases, label='Daily Cases')  # Plot some data on the axes.\n",
        "ax.set_xlabel('Date')  # Add an x-label to the axes.\n",
        "ax.set_ylabel('confirmed casess')  # Add a y-label to the axes.\n",
        "ax.set_title(\"Covid-19 case counts for BC\")  # Add a title to the axes.\n",
        "ax.legend();"
      ],
      "metadata": {
        "pycharm": {
          "name": "#%%\n"
        },
        "id": "FgwPH8mTBH3v",
        "outputId": "195e062b-7de2-4e02-fde3-f274922a7964",
        "colab": {
          "base_uri": "https://localhost:8080/",
          "height": 295
        }
      }
    },
    {
      "cell_type": "markdown",
      "source": [
        "## Exercise 2\n",
        "\n",
        "Repeat the analysis above, but this time only for Vancouver Coastal Health Region.\n",
        "\n",
        " * Try to modify as little code as you can (should be just a few characters), and re-run the analysis\n",
        " * You can get the location code for each health region here:  https://opencovid.ca/api/#health-region-codes\n",
        " * Can you generalize the code in the 2nd code cell to make it easier to repeat the analysis for different locations?  What about for different dates?\n",
        "\n",
        "## Exercise 3\n",
        "\n",
        "Notice that BC does not report case counts on weekends so the data plot looks erratic.\n",
        "\n",
        " * One way to fix that is to plot a \"7-day rolling average\" instead.\n",
        "Each day, we take the average of the previous 7 days cases.\n",
        " * Add new code cell below, compute the 7-day rolling average for each day from the cases list.\n",
        " * Create a plot to display the rolling average data and compare your plost with the one produced above.\n",
        "\n",
        " Hints: you are free to do this however you like, but a quite elegant solution uses list comprehension, range, and slices\n"
      ],
      "metadata": {
        "collapsed": false,
        "id": "qqeTORnvBH3v"
      }
    },
    {
      "cell_type": "code",
      "source": [
        "query = 'https://api.opencovid.ca/timeseries?stat=cases&loc=595&after=01-12-2021' # Changing location from BC to VCH \n",
        "\n",
        "response = requests.request(\"GET\", query, headers={}, data={})\n",
        "result = json.loads(response.text)\n",
        "\n",
        "cases_and_dates = listify_health_data(result) \n",
        "cases = cases_and_dates[0]\n",
        "dates = cases_and_dates[1]\n",
        "\n",
        "def average_daily_cases(period):\n",
        "  days = 1\n",
        "  average_cases = []\n",
        "  while days < period:\n",
        "    average_cases.append(sum(cases[0:days])/days) \n",
        "    days = days +1\n",
        "  while days <= len(cases):\n",
        "    average_cases.append(sum(cases[(days-period):days])/period) \n",
        "    days = days +1\n",
        "  return average_cases\n",
        "\n",
        "ADC = average_daily_cases(7) \n",
        "\n",
        "fig, ax = plt.subplots()\n",
        "format_date_axis(ax)\n",
        "ax.plot(dates, ADC, label='Average Daily Cases')  # Plot some data on the axes.\n",
        "ax.set_xlabel('Date')  # Add an x-label to the axes.\n",
        "ax.set_ylabel('Average Cases')  # Add a y-label to the axes.\n",
        "ax.set_title(\"Vancouver Coastal Health Region\")  # Add a title to the axes.\n",
        "ax.legend();"
      ],
      "metadata": {
        "colab": {
          "base_uri": "https://localhost:8080/",
          "height": 295
        },
        "id": "FrzeVc9f7rBR",
        "outputId": "10f7a2aa-5940-4404-f2ca-c24152b879d1"
      },
      "execution_count": 85,
      "outputs": [
        {
          "output_type": "display_data",
          "data": {
            "image/png": "[encoded data removed]",
            "text/plain": [
              "<Figure size 432x288 with 1 Axes>"
            ]
          },
          "metadata": {
            "needs_background": "light"
          }
        }
      ]
    }
  ],
  "metadata": {
    "kernelspec": {
      "display_name": "Python 3",
      "language": "python",
      "name": "python3"
    },
    "language_info": {
      "codemirror_mode": {
        "name": "ipython",
        "version": 2
      },
      "file_extension": ".py",
      "mimetype": "text/x-python",
      "name": "python",
      "nbconvert_exporter": "python",
      "pygments_lexer": "ipython2",
      "version": "2.7.6"
    },
    "colab": {
      "name": "Dexter_Hine COMP 215 Lab1",
      "provenance": [],
      "collapsed_sections": [],
      "include_colab_link": true
    }
  },
  "nbformat": 4,
  "nbformat_minor": 0
}