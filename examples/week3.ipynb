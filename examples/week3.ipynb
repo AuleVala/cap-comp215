{
 "nbformat": 4,
 "nbformat_minor": 0,
 "metadata": {
  "colab": {
   "name": "week2.ipynb",
   "provenance": [],
   "authorship_tag": "ABX9TyPaDDBvkkZsqA9kTy73BUWZ",
   "include_colab_link": true
  },
  "kernelspec": {
   "name": "python3",
   "display_name": "Python 3"
  },
  "language_info": {
   "name": "python"
  }
 },
 "cells": [
  {
   "cell_type": "markdown",
   "source": [
    "# Classes and Objects\n",
    "This is our week 3 examples notebook and will be available on Github from the powderflask/cap-comp215 repository.\n",
    "\n",
    "As usual, the first code block just imports the modules we will use."
   ],
   "metadata": {
    "id": "WBMC0GrjNRTM"
   }
  },
  {
   "cell_type": "code",
   "execution_count": 54,
   "outputs": [],
   "source": [
    "import random\n",
    "import matplotlib.pyplot as plt\n",
    "from pprint import pprint"
   ],
   "metadata": {
    "collapsed": false,
    "pycharm": {
     "name": "#%%\n"
    }
   }
  },
  {
   "cell_type": "markdown",
   "source": [
    "## Problem: Collision detection using circles"
   ],
   "metadata": {
    "collapsed": false
   }
  },
  {
   "cell_type": "code",
   "execution_count": 62,
   "outputs": [],
   "source": [
    "class Circle:\n",
    "    def __init__(self, centre, radius):\n",
    "        \"\"\"\n",
    "            Initialze a Circle object with given centre and radius\n",
    "            :param centre: 2-tuple with (x, y) coordinate of centre\n",
    "            :param radius: numeric radius of circle\n",
    "        \"\"\"\n",
    "        self.centre = centre\n",
    "        self.radius = radius\n",
    "\n",
    "    def __str__(self):\n",
    "        return f'c:{self.centre} r:{self.radius}'\n",
    "\n",
    "    def move(self, offset):\n",
    "        \"\"\" Move this circle by given (x,y) offset \"\"\"\n",
    "        self.centre = tuple(w1 + w2 for w1,w2 in zip(self.centre, offset) )\n",
    "\n",
    "    def distance(self, other):\n",
    "        \"\"\" Return the distance between this circle and the other one \"\"\"\n",
    "        return sum(abs(w1-w2)**2 for w1,w2 in zip(self.centre, other.centre)) **0.5\n",
    "\n",
    "    def intersects(self, other):\n",
    "        \"\"\" Return True iff this circle intersects the other one \"\"\"\n",
    "        return self.distance(other) <=  self.radius + other.radius"
   ],
   "metadata": {
    "collapsed": false,
    "pycharm": {
     "name": "#%%\n"
    }
   }
  },
  {
   "cell_type": "code",
   "execution_count": 70,
   "outputs": [
    {
     "name": "stdout",
     "output_type": "stream",
     "text": [
      "State: c:(4, 4) r:2 c:(9, 9) r:2 Dist: 7.07 Intersects? False\n",
      "State: c:(6, 6) r:2 c:(9, 9) r:2 Dist: 4.24 Intersects? False\n",
      "State: c:(6, 6) r:2 c:(8, 9) r:2 Dist: 3.61 Intersects? True\n"
     ]
    }
   ],
   "source": [
    "c1 = Circle(centre=(4,4), radius=2)\n",
    "c2 = Circle(centre=(9, 9), radius=2)\n",
    "def print_state():\n",
    "    print('State:', str(c1), str(c2), 'Dist:', round(c1.distance(c2), 2), 'Intersects?', c1.intersects(c2))\n",
    "print_state()\n",
    "c1.move((2,2))\n",
    "print_state()\n",
    "c2.move((-1, 0))\n",
    "print_state()"
   ],
   "metadata": {
    "collapsed": false,
    "pycharm": {
     "name": "#%%\n"
    }
   }
  },
  {
   "cell_type": "markdown",
   "source": [
    "## Problem:  Counting\n",
    "When conducting an experiment, it is common to count occurances.  For example\n",
    "\n",
    "* in a physics experiment, we might count the number of atomic collisions in which certain sub-atomic particles were produced\n",
    "* in biology, we might count the number of cells infected by a virus after a fixed time period\n",
    "* in a computational experiment, we might count the frequency with which clusters of a give size form\n",
    "\n",
    "To visualize such experimental results, we would generally plot a histogram, like this:\n"
   ],
   "metadata": {
    "collapsed": false
   }
  },
  {
   "cell_type": "code",
   "source": [
    "# Experiment: Get the age distribution for Cap students\n",
    "n_cap_students = 11500\n",
    "\n",
    "# Simulate getting the age for one Cap student\n",
    "def get_age():\n",
    "    return int(random.normalvariate(mu=24, sigma=4))  # Normally distributed age with mean of 24 years\n",
    "\n",
    "# Run experiment to obtain the age for each student\n",
    "data = [get_age() for i in range(n_cap_students)]\n",
    "\n",
    "# Set the number of bins to the number of ages we found\n",
    "n_bins = len(set(data))\n",
    "\n",
    "fig, ax = plt.subplots()\n",
    "ax.set_title(\"Age distribution for Cap Students\")\n",
    "ax.set_xlabel('Age (years)')\n",
    "\n",
    "# plot a histogram of the data, divided into n \"equal width\" bins\n",
    "ax.hist(data, bins=n_bins)\n",
    "plt.plot()"
   ],
   "metadata": {
    "id": "HZSz8IftqJ72",
    "colab": {
     "base_uri": "https://localhost:8080/"
    },
    "outputId": "5b74860f-94af-483c-f4a8-4ef27ba7dd4a"
   },
   "execution_count": 56,
   "outputs": [
    {
     "data": {
      "text/plain": "[]"
     },
     "execution_count": 56,
     "metadata": {},
     "output_type": "execute_result"
    },
    {
     "data": {
      "text/plain": "<Figure size 432x288 with 1 Axes>",
      "image/png": "[encoded data removed]"
     },
     "metadata": {
      "needs_background": "light"
     },
     "output_type": "display_data"
    }
   ]
  },
  {
   "cell_type": "markdown",
   "source": [
    "## Custom Histogram Class\n",
    "\n",
    "Define our own historgram class that serves as a \"wrapper\" for clunky pyplot ax.hist"
   ],
   "metadata": {
    "id": "naDVayQLkznK"
   }
  },
  {
   "cell_type": "code",
   "source": [
    "class Histogram:\n",
    "    \"\"\" A simple histogram with a nice API \"\"\"\n",
    "    def __init__(self, title, xlabel=None):\n",
    "        fig, ax = plt.subplots()\n",
    "        ax.set_title(title)\n",
    "        if xlabel:\n",
    "            ax.set_xlabel(xlabel)\n",
    "        ax.set_ylabel('Count')\n",
    "        self.ax = ax\n",
    "        self.fig = fig\n",
    "        self.counts = {}\n",
    "\n",
    "    def count(self, category):\n",
    "        self.counts[category] = self.counts.get(category, 0) + 1\n",
    "\n",
    "    def plot(self):\n",
    "        self.ax.bar(self.counts.keys(), self.counts.values())\n",
    "        plt.show()"
   ],
   "metadata": {
    "colab": {
     "base_uri": "https://localhost:8080/",
     "height": 58
    },
    "id": "Ai9qb3Bolw4h",
    "outputId": "2e0926a0-3354-45d2-8769-54290d4decc1"
   },
   "execution_count": 57,
   "outputs": []
  },
  {
   "cell_type": "code",
   "execution_count": 58,
   "outputs": [
    {
     "data": {
      "text/plain": "<Figure size 432x288 with 1 Axes>",
      "image/png": "[encoded data removed]"
     },
     "metadata": {
      "needs_background": "light"
     },
     "output_type": "display_data"
    }
   ],
   "source": [
    "hist = Histogram(title='Age Distribution for Cap Students', xlabel='Age (years)')\n",
    "for i in range(n_cap_students):\n",
    "    hist.count(get_age())\n",
    "hist.plot()"
   ],
   "metadata": {
    "collapsed": false,
    "pycharm": {
     "name": "#%%\n"
    }
   }
  },
  {
   "cell_type": "code",
   "execution_count": 58,
   "outputs": [],
   "source": [],
   "metadata": {
    "collapsed": false,
    "pycharm": {
     "name": "#%%\n"
    }
   }
  }
 ]
}