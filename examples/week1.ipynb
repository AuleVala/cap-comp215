{
 "nbformat": 4,
 "nbformat_minor": 0,
 "metadata": {
  "colab": {
   "name": "week1.ipynb",
   "provenance": [],
   "authorship_tag": "ABX9TyMWqRigGb5pLSyGV1eJMUv2",
   "include_colab_link": true
  },
  "kernelspec": {
   "name": "python3",
   "display_name": "Python 3"
  },
  "language_info": {
   "name": "python"
  }
 },
 "cells": [
  {
   "cell_type": "markdown",
   "metadata": {
    "id": "view-in-github",
    "colab_type": "text"
   },
   "source": [
    "<a href=\"https://colab.research.google.com/github/powderflask/cap-comp215/blob/main/examples/week1.ipynb\" target=\"_parent\"><img src=\"https://colab.research.google.com/assets/colab-badge.svg\" alt=\"Open In Colab\"/></a>"
   ]
  },
  {
   "cell_type": "markdown",
   "source": [
    "# Welcome to Comp 215!\n",
    "This is our week 1 examples notebook and will be available on Github from the powderflask/cap-comp215 repository.\n",
    "\n",
    "As usual, the first code block just imports the modules we will use."
   ],
   "metadata": {
    "id": "WBMC0GrjNRTM"
   }
  },
  {
   "cell_type": "code",
   "execution_count": 30,
   "metadata": {
    "id": "C1a6aDXAM0WM"
   },
   "outputs": [],
   "source": [
    "import matplotlib.pyplot as plt\n",
    "from pprint import pprint"
   ]
  },
  {
   "cell_type": "markdown",
   "source": [
    "## Exponential Growth\n",
    "How can we use code to better understand exponential growth?"
   ],
   "metadata": {
    "id": "k70NJ-JTNwYN"
   }
  },
  {
   "cell_type": "code",
   "source": [
    "initial_duck_weed = 2\n",
    "duck_weed = [initial_duck_weed, ]\n",
    "for day in range(1, 31):\n",
    "  duck_weed.append( duck_weed[-1] * 2 )\n",
    "\n",
    "print(\"There are now {num} duck weed plants.\".format(num=duck_weed[-1]))\n",
    "print(duck_weed)"
   ],
   "metadata": {
    "colab": {
     "base_uri": "https://localhost:8080/"
    },
    "id": "HZSz8IftqJ72",
    "outputId": "7cab3814-86b9-4ca0-b664-495dc4eb7e76"
   },
   "execution_count": 31,
   "outputs": [
    {
     "output_type": "stream",
     "name": "stdout",
     "text": [
      "There are now 2147483648 duck weed plants.\n",
      "[2, 4, 8, 16, 32, 64, 128, 256, 512, 1024, 2048, 4096, 8192, 16384, 32768, 65536, 131072, 262144, 524288, 1048576, 2097152, 4194304, 8388608, 16777216, 33554432, 67108864, 134217728, 268435456, 536870912, 1073741824, 2147483648]\n"
     ]
    }
   ]
  },
  {
   "cell_type": "markdown",
   "source": [
    "## Plot the Growth\n",
    "we'll use matplotlib not because it is awesome, but because it is the standard tool most scientists use"
   ],
   "metadata": {
    "id": "b6w3F2yErxuB"
   }
  },
  {
   "cell_type": "code",
   "source": [
    "pct_cover = [dw/duck_weed[-1]*100 for dw in duck_weed]\n",
    "fig, ax = plt.subplots()\n",
    "ax.set_title(\"Duck Weed Growth over 30 days\")\n",
    "ax.plot(range(0, 31), pct_cover, label=\"% pond coveraged\")\n",
    "ax.legend()"
   ],
   "metadata": {
    "colab": {
     "base_uri": "https://localhost:8080/",
     "height": 318
    },
    "id": "i_5lOF51r63i",
    "outputId": "47fe3e2c-64de-4c17-ca09-825dc3ced101"
   },
   "execution_count": 32,
   "outputs": [
    {
     "output_type": "execute_result",
     "data": {
      "text/plain": [
       "<matplotlib.legend.Legend at 0x7fbcaf5a3d90>"
      ]
     },
     "metadata": {},
     "execution_count": 32
    },
    {
     "output_type": "display_data",
     "data": {
      "image/png": "[encoded data removed]",
      "text/plain": [
       "<Figure size 432x288 with 1 Axes>"
      ]
     },
     "metadata": {
      "needs_background": "light"
     }
    }
   ]
  }
 ]
}