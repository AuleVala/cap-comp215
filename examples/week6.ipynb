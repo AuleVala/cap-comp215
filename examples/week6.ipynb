{
 "cells": [
  {
   "cell_type": "markdown",
   "source": [
    "# Game of Life\n",
    "This is our week 6 examples notebook and will be available on Github from the powderflask/cap-comp215 repository.\n",
    "As usual, the first code block just imports the modules we will use."
   ],
   "metadata": {
    "collapsed": false
   }
  },
  {
   "cell_type": "code",
   "execution_count": 40,
   "metadata": {
    "collapsed": true
   },
   "outputs": [],
   "source": [
    "import math, re\n",
    "import matplotlib.pyplot as plt\n",
    "import numpy as np\n",
    "from scipy.signal import correlate2d"
   ]
  },
  {
   "cell_type": "markdown",
   "source": [
    "## 2D Correlation with a 2D Kernel and 19 state lookup table (0 - 18)"
   ],
   "metadata": {
    "collapsed": false
   }
  },
  {
   "cell_type": "code",
   "execution_count": 41,
   "outputs": [
    {
     "name": "stdout",
     "output_type": "stream",
     "text": [
      "[[0 0 1 1 1 1 0 1 0 1]\n",
      " [0 1 0 1 1 0 0 0 1 1]\n",
      " [1 0 1 1 0 0 1 1 0 0]\n",
      " [1 0 0 0 0 1 1 0 0 0]\n",
      " [0 1 1 1 0 0 1 1 0 1]\n",
      " [0 0 0 1 1 1 1 0 1 1]\n",
      " [0 1 1 1 1 0 0 1 1 1]\n",
      " [0 0 1 0 0 1 0 0 0 0]\n",
      " [1 0 1 1 0 1 0 0 1 1]\n",
      " [0 0 1 1 0 0 1 1 0 1]]\n",
      "[[ 1  2 13 14 14 12  2 11  4 12]\n",
      " [ 2 13  6 16 15  4  4  4 14 12]\n",
      " [12  4 13 13  4  4 13 13  3  2]\n",
      " [12  5  5  4  3 13 15  5  3  1]\n",
      " [ 2 12 13 13  5  6 15 14  4 12]\n",
      " [ 2  4  7 16 15 14 14  6 16 14]\n",
      " [ 1 12 14 15 15  5  4 13 14 13]\n",
      " [ 2  5 15  6  5 12  3  3  5  4]\n",
      " [10  4 14 14  4 12  4  3 13 12]\n",
      " [ 1  3 13 13  3  2 12 12  4 12]]\n",
      "[[0 0 1 0 0 1 0 0 0 1]\n",
      " [0 1 0 0 0 0 0 0 0 1]\n",
      " [1 0 1 1 0 0 1 1 1 0]\n",
      " [1 0 0 0 1 1 0 0 1 0]\n",
      " [0 1 1 1 0 0 0 0 0 1]\n",
      " [0 0 0 0 0 0 0 0 0 0]\n",
      " [0 1 0 0 0 0 0 1 0 1]\n",
      " [0 0 0 0 0 1 1 1 0 0]\n",
      " [0 0 0 0 0 1 0 1 1 1]\n",
      " [0 1 1 1 1 0 1 1 0 1]]\n"
     ]
    }
   ],
   "source": [
    "np.random.seed(42)\n",
    "state = np.random.randint(2, size=(10, 10), dtype=np.uint8)\n",
    "\n",
    "kernel = np.array([[1, 1, 1],\n",
    "                   [1,10, 1],\n",
    "                   [1, 1, 1]])\n",
    "\n",
    "table = np.zeros(19, dtype=np.uint8)\n",
    "table[[3, 12, 13]] = 1\n",
    "\n",
    "dot_p = correlate2d(state, kernel, mode='same')\n",
    "new_state = table[dot_p]\n",
    "print(state)\n",
    "print(dot_p)\n",
    "print(new_state)"
   ],
   "metadata": {
    "collapsed": false,
    "pycharm": {
     "name": "#%%\n"
    }
   }
  },
  {
   "cell_type": "markdown",
   "source": [
    "# Display CA as 2-D image"
   ],
   "metadata": {
    "collapsed": false
   }
  },
  {
   "cell_type": "code",
   "execution_count": 42,
   "outputs": [
    {
     "data": {
      "text/plain": "<matplotlib.image.AxesImage at 0x132ca5580>"
     },
     "execution_count": 42,
     "metadata": {},
     "output_type": "execute_result"
    },
    {
     "data": {
      "text/plain": "<Figure size 432x288 with 1 Axes>",
      "image/png": "[encoded data removed]"
     },
     "metadata": {
      "needs_background": "light"
     },
     "output_type": "display_data"
    }
   ],
   "source": [
    "plt.imshow(new_state)"
   ],
   "metadata": {
    "collapsed": false,
    "pycharm": {
     "name": "#%%\n"
    }
   }
  },
  {
   "cell_type": "markdown",
   "source": [
    "## Python: argument unpacking"
   ],
   "metadata": {
    "collapsed": false
   }
  },
  {
   "cell_type": "code",
   "execution_count": 43,
   "outputs": [
    {
     "name": "stdout",
     "output_type": "stream",
     "text": [
      "positional args: (42, 'hello')\n",
      "keyword args: {'foo': 'choo', 'bar': [1, 2, 3]}\n"
     ]
    }
   ],
   "source": [
    "def my_func(*args, **kwargs):\n",
    "    assert type(args) == tuple\n",
    "    assert type(kwargs) == dict\n",
    "    print('positional args:', args)\n",
    "    print('keyword args:', kwargs)\n",
    "\n",
    "my_func(42, 'hello', foo='choo', bar=[1,2,3])"
   ],
   "metadata": {
    "collapsed": false,
    "pycharm": {
     "name": "#%%\n"
    }
   }
  },
  {
   "cell_type": "markdown",
   "source": [
    "## Python: dictionaries and argument unpacking"
   ],
   "metadata": {
    "collapsed": false
   }
  },
  {
   "cell_type": "code",
   "execution_count": 44,
   "outputs": [
    {
     "name": "stdout",
     "output_type": "stream",
     "text": [
      "{'a': 1, 'b': 2, 'c': 3} {'a': 1, 'b': 2, 'c': 3}\n",
      "positional args: ()\n",
      "keyword args: {'a': 1, 'b': 2, 'c': 3}\n"
     ]
    }
   ],
   "source": [
    "d1 = {\n",
    "    'a' : 1,\n",
    "    'b' : 2,\n",
    "    'c' : 3,\n",
    "}\n",
    "\n",
    "d2 = dict(a=1, b=2, c=3)\n",
    "\n",
    "assert d1 == d2\n",
    "\n",
    "print(d1, d2)\n",
    "\n",
    "my_func(**d1)"
   ],
   "metadata": {
    "collapsed": false,
    "pycharm": {
     "name": "#%%\n"
    }
   }
  },
  {
   "cell_type": "markdown",
   "source": [
    "## Python: Class Inheritance\n",
    "* use with caution - there is **much** to learn about using inheritance correctly!\n",
    "* see Ch. 19 in Comp115 Think Python textbook for more info"
   ],
   "metadata": {
    "collapsed": false
   }
  },
  {
   "cell_type": "code",
   "execution_count": 48,
   "outputs": [
    {
     "name": "stdout",
     "output_type": "stream",
     "text": [
      "3 different kinds of points: <class '__main__.Point2D'> (3, 4) <class '__main__.PolarPoint2D'> (2.99, 4.01) <class '__main__.LabelledPoint2D'> (6, 8)-Here\n",
      "Polar coordinates: p1: (5.0, 0.9272952180016122)  p2: (5.0, 0.9299999999999999)\n",
      "Distance from (3, 4) to (2.99, 4.01) : 0.013523905869487528  and visa versa: 0.013523905869487528\n",
      "Distance from (3, 4) to (6, 8)-Here : 5.0  and visa versa: 5.0\n"
     ]
    }
   ],
   "source": [
    "class Point2D:\n",
    "    \"\"\" A point on the 2D Cartesian plane \"\"\"\n",
    "    def __init__(self, x, y):\n",
    "        self.x = x\n",
    "        self.y = y\n",
    "\n",
    "    def __str__(self):\n",
    "        return '({x}, {y})'.format(x=round(self.x,2), y=round(self.y,2))\n",
    "\n",
    "    def distance(self, other):\n",
    "        \"\"\" Return distance between this point and other Point2D \"\"\"\n",
    "        return math.sqrt((self.x-other.x)**2 + (self.y-other.y)**2)\n",
    "\n",
    "    @property\n",
    "    def r(self):\n",
    "        \"\"\" length, r, from origin to this point \"\"\"\n",
    "        return self.distance(Point2D(0,0))\n",
    "\n",
    "    @property\n",
    "    def theta(self):\n",
    "        \"\"\" angle, in radians, of vector to this point \"\"\"\n",
    "        return math.atan2(self.y, self.x)  # faster than SohCahToa\n",
    "\n",
    "    def polar_coord(self):\n",
    "        \"\"\" return the polar coordinate for this point \"\"\"\n",
    "        return (self.r, self.theta)\n",
    "\n",
    "\n",
    "class PolarPoint2D(Point2D):\n",
    "    \"\"\" A point on the 2D Cartesian plane specified in polar coordinates \"\"\"\n",
    "    def __init__(self, r, theta):\n",
    "        \"\"\" define point by length r and angle, theta, in radians \"\"\"\n",
    "        super().__init__(x=r*math.cos(theta), y=r*math.sin(theta))\n",
    "\n",
    "\n",
    "class LabelledPoint2D(Point2D):\n",
    "    \"\"\" A labelled point on a 2D Cartesian plane \"\"\"\n",
    "    def __init__(self, x, y, label):\n",
    "        super().__init__(x, y)\n",
    "        self.label = label\n",
    "\n",
    "    def __str__(self):\n",
    "        return '{point}-{label}'.format(point=super().__str__(), label=self.label)\n",
    "\n",
    "\n",
    "p1 = Point2D(3, 4)\n",
    "p2 = PolarPoint2D(5, 0.93)\n",
    "p3 = LabelledPoint2D(6, 8, 'Here')\n",
    "\n",
    "print('3 different kinds of points:', type(p1), p1, type(p2), p2, type(p3), p3)\n",
    "print('Polar coordinates: p1:', p1.polar_coord(), ' p2:', p2.polar_coord())\n",
    "print('Distance from', p1,'to', p2, ':', p1.distance(p2), ' and visa versa:', p2.distance(p1))\n",
    "print('Distance from', p1, 'to', p3, ':', p1.distance(p3), ' and visa versa:', p3.distance(p1))"
   ],
   "metadata": {
    "collapsed": false,
    "pycharm": {
     "name": "#%%\n"
    }
   }
  },
  {
   "cell_type": "markdown",
   "source": [
    "## For Project Idea: Life Patterns\n",
    "This code demonstrates how to use a \"regular expression\" (re) to parse run-length encoded data\n",
    " - a regular expression to parse the GoL RLE pattern"
   ],
   "metadata": {
    "collapsed": false
   }
  },
  {
   "cell_type": "code",
   "execution_count": 46,
   "outputs": [
    {
     "name": "stdout",
     "output_type": "stream",
     "text": [
      "[('24', 'b'), ('', 'o'), ('11', 'b'), ('', '$'), ('22', 'b'), ('', 'o'), ('', 'b'), ('', 'o'), ('11', 'b'), ('', '$'), ('12', 'b'), ('2', 'o'), ('6', 'b'), ('2', 'o'), ('12', 'b'), ('2', 'o'), ('', '$'), ('11', 'b'), ('', 'o'), ('3', 'b'), ('', 'o'), ('4', 'b'), ('2', 'o'), ('12', 'b'), ('2', 'o'), ('', '$'), ('2', 'o'), ('8', 'b'), ('', 'o'), ('5', 'b'), ('', 'o'), ('3', 'b'), ('2', 'o'), ('14', 'b'), ('', '$'), ('2', 'o'), ('8', 'b'), ('', 'o'), ('3', 'b'), ('', 'o'), ('', 'b'), ('2', 'o'), ('4', 'b'), ('', 'o'), ('', 'b'), ('', 'o'), ('11', 'b'), ('', '$'), ('10', 'b'), ('', 'o'), ('5', 'b'), ('', 'o'), ('7', 'b'), ('', 'o'), ('11', 'b'), ('', '$'), ('11', 'b'), ('', 'o'), ('3', 'b'), ('', 'o'), ('20', 'b'), ('', '$'), ('12', 'b'), ('2', 'o'), ('', '!')]\n"
     ]
    }
   ],
   "source": [
    "rle_pairs = r'(\\d+)?([bo$!])'  # 2-tuples, (n, c), where n is optional positive integer and C is one of b,o,$,!\n",
    "# pattern from https://conwaylife.com/patterns/gosperglidergun.rle\n",
    "data = '''\n",
    "24bo11b$22bobo11b$12b2o6b2o12b2o$11bo3bo4b2o12b2o$2o8bo5bo3b2o14b$2o8bo3bob2o4bobo11b$10bo5bo7bo11b$11bo3bo20b$12b2o!\n",
    "'''\n",
    "matches = re.findall(rle_pairs, data)\n",
    "print(matches)"
   ],
   "metadata": {
    "collapsed": false,
    "pycharm": {
     "name": "#%%\n"
    }
   }
  }
 ],
 "metadata": {
  "kernelspec": {
   "display_name": "Python 3",
   "language": "python",
   "name": "python3"
  },
  "language_info": {
   "codemirror_mode": {
    "name": "ipython",
    "version": 2
   },
   "file_extension": ".py",
   "mimetype": "text/x-python",
   "name": "python",
   "nbconvert_exporter": "python",
   "pygments_lexer": "ipython2",
   "version": "2.7.6"
  }
 },
 "nbformat": 4,
 "nbformat_minor": 0
}