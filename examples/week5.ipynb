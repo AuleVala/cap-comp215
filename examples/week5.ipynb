{
 "nbformat": 4,
 "nbformat_minor": 0,
 "metadata": {
  "colab": {
   "name": "week5.ipynb",
   "provenance": [],
   "authorship_tag": "ABX9TyPaDDBvkkZsqA9kTy73BUWZ",
   "include_colab_link": true
  },
  "kernelspec": {
   "name": "python3",
   "display_name": "Python 3"
  },
  "language_info": {
   "name": "python"
  }
 },
 "cells": [
  {
   "cell_type": "markdown",
   "source": [
    "# Cellular Automata\n",
    "This is our week 5 examples notebook and will be available on Github from the powderflask/cap-comp215 repository.\n",
    "\n",
    "As usual, the first code block just imports the modules we will use."
   ],
   "metadata": {
    "id": "WBMC0GrjNRTM"
   }
  },
  {
   "cell_type": "code",
   "execution_count": 140,
   "outputs": [],
   "source": [
    "import matplotlib.pyplot as plt\n",
    "import numpy as np"
   ],
   "metadata": {
    "collapsed": false,
    "pycharm": {
     "name": "#%%\n"
    }
   }
  },
  {
   "cell_type": "markdown",
   "source": [
    "## Counting: how many unique states for a 3-cell neighbourhood?\n",
    "Wolfram's simple CA's use a 3-cell neighbourhood, where each cell is \"on\" or \"off\".\n",
    "How many possible unique neighbourhood states are there?"
   ],
   "metadata": {
    "collapsed": false
   }
  },
  {
   "cell_type": "code",
   "execution_count": 141,
   "outputs": [
    {
     "name": "stdout",
     "output_type": "stream",
     "text": [
      "Number of unique neighbourhood states for 2 state CA with neighbourhood size 3: 8\n"
     ]
    },
    {
     "data": {
      "text/plain": "[(0, 0, 0),\n (0, 0, 1),\n (0, 1, 0),\n (0, 1, 1),\n (1, 0, 0),\n (1, 0, 1),\n (1, 1, 0),\n (1, 1, 1)]"
     },
     "execution_count": 141,
     "metadata": {},
     "output_type": "execute_result"
    }
   ],
   "source": [
    "size_of_neighbourhood = 3            # for Wolfram's set of simple CA's\n",
    "n_states_for_one_cell = 2            # on or off\n",
    "n_neighbourhood_states = n_states_for_one_cell ** size_of_neighbourhood    # 2**3 == 8\n",
    "\n",
    "print('Number of unique neighbourhood states for {n_state} state CA with neighbourhood size {n_size}: {n_rules}'.format(\n",
    "    n_state=n_states_for_one_cell, n_size=size_of_neighbourhood, n_rules=n_neighbourhood_states\n",
    "))\n",
    "\n",
    "bit = (0,1)\n",
    "states = [(i,j,k) for i in bit for j in bit for k in bit]\n",
    "states"
   ],
   "metadata": {
    "collapsed": false,
    "pycharm": {
     "name": "#%%\n"
    }
   }
  },
  {
   "cell_type": "markdown",
   "source": [
    "## Representation for a 'rule'\n",
    "An efficient way to represent one \"rule\" is as a list of the 8 possible \"next\" states.\n",
    "* if we interpet each 3-bit neighbourhood as a binary integer, it provides an \"index\" into this array. allowing us to directly look-up the state change for any given neighbourhood!\n",
    "* the 'bits' in the rule need to be reversed so that the new state for neighbourhood [0,0,0] is found at index 0 in the rule."
   ],
   "metadata": {
    "collapsed": false,
    "pycharm": {
     "name": "#%% md\n"
    }
   }
  },
  {
   "cell_type": "code",
   "execution_count": 142,
   "outputs": [
    {
     "name": "stdout",
     "output_type": "stream",
     "text": [
      "Rule 110: [0, 1, 1, 1, 0, 1, 1, 0]\n",
      "next state for [1, 0, 1], encoded at index 5, is: 1\n"
     ]
    }
   ],
   "source": [
    "bin_110 = [0,1,1,0,1,1,1,0]     # binary encoding for 110\n",
    "rule_110 =  bin_110[::-1]       #  reversed!\n",
    "neighbourhood = [1,0,1]         # use binary code --> '101' == 1*2**2 + 0*2**1 + 1*2**0 == 5 <-- to get rule index\n",
    "index = neighbourhood[0]*4 + neighbourhood[1]*2 + neighbourhood[2]\n",
    "next_state = rule_110[index]\n",
    "print(\"Rule 110:\", rule_110)\n",
    "print('next state for {neighbourhood}, encoded at index {index}, is: {next_state}'.format(\n",
    "    neighbourhood=neighbourhood, index=index, next_state=next_state\n",
    "))"
   ],
   "metadata": {
    "collapsed": false,
    "pycharm": {
     "name": "#%%\n"
    }
   }
  },
  {
   "cell_type": "markdown",
   "source": [
    "## Counting: how many rules?\n",
    "If a rule can be encoded with 8 \"bits\", then how many unique rules are there?"
   ],
   "metadata": {
    "collapsed": false
   }
  },
  {
   "cell_type": "code",
   "execution_count": 143,
   "outputs": [
    {
     "name": "stdout",
     "output_type": "stream",
     "text": [
      "Number of rules for 2 state CA with neighbourhood size 3: 256\n"
     ]
    },
    {
     "data": {
      "text/plain": "[(0, 0, 0, 0, 0, 0, 0, 0),\n (0, 0, 0, 0, 0, 0, 0, 1),\n (0, 0, 0, 0, 0, 0, 1, 0),\n (0, 0, 0, 0, 0, 0, 1, 1),\n (0, 0, 0, 0, 0, 1, 0, 0),\n (0, 0, 0, 0, 0, 1, 0, 1),\n (0, 0, 0, 0, 0, 1, 1, 0),\n (0, 0, 0, 0, 0, 1, 1, 1),\n (0, 0, 0, 0, 1, 0, 0, 0),\n (0, 0, 0, 0, 1, 0, 0, 1),\n (0, 0, 0, 0, 1, 0, 1, 0),\n (0, 0, 0, 0, 1, 0, 1, 1),\n (0, 0, 0, 0, 1, 1, 0, 0),\n (0, 0, 0, 0, 1, 1, 0, 1),\n (0, 0, 0, 0, 1, 1, 1, 0),\n (0, 0, 0, 0, 1, 1, 1, 1),\n (0, 0, 0, 1, 0, 0, 0, 0),\n (0, 0, 0, 1, 0, 0, 0, 1),\n (0, 0, 0, 1, 0, 0, 1, 0),\n (0, 0, 0, 1, 0, 0, 1, 1),\n (0, 0, 0, 1, 0, 1, 0, 0),\n (0, 0, 0, 1, 0, 1, 0, 1),\n (0, 0, 0, 1, 0, 1, 1, 0),\n (0, 0, 0, 1, 0, 1, 1, 1),\n (0, 0, 0, 1, 1, 0, 0, 0),\n (0, 0, 0, 1, 1, 0, 0, 1),\n (0, 0, 0, 1, 1, 0, 1, 0),\n (0, 0, 0, 1, 1, 0, 1, 1),\n (0, 0, 0, 1, 1, 1, 0, 0),\n (0, 0, 0, 1, 1, 1, 0, 1),\n (0, 0, 0, 1, 1, 1, 1, 0),\n (0, 0, 0, 1, 1, 1, 1, 1),\n (0, 0, 1, 0, 0, 0, 0, 0),\n (0, 0, 1, 0, 0, 0, 0, 1),\n (0, 0, 1, 0, 0, 0, 1, 0),\n (0, 0, 1, 0, 0, 0, 1, 1),\n (0, 0, 1, 0, 0, 1, 0, 0),\n (0, 0, 1, 0, 0, 1, 0, 1),\n (0, 0, 1, 0, 0, 1, 1, 0),\n (0, 0, 1, 0, 0, 1, 1, 1),\n (0, 0, 1, 0, 1, 0, 0, 0),\n (0, 0, 1, 0, 1, 0, 0, 1),\n (0, 0, 1, 0, 1, 0, 1, 0),\n (0, 0, 1, 0, 1, 0, 1, 1),\n (0, 0, 1, 0, 1, 1, 0, 0),\n (0, 0, 1, 0, 1, 1, 0, 1),\n (0, 0, 1, 0, 1, 1, 1, 0),\n (0, 0, 1, 0, 1, 1, 1, 1),\n (0, 0, 1, 1, 0, 0, 0, 0),\n (0, 0, 1, 1, 0, 0, 0, 1),\n (0, 0, 1, 1, 0, 0, 1, 0),\n (0, 0, 1, 1, 0, 0, 1, 1),\n (0, 0, 1, 1, 0, 1, 0, 0),\n (0, 0, 1, 1, 0, 1, 0, 1),\n (0, 0, 1, 1, 0, 1, 1, 0),\n (0, 0, 1, 1, 0, 1, 1, 1),\n (0, 0, 1, 1, 1, 0, 0, 0),\n (0, 0, 1, 1, 1, 0, 0, 1),\n (0, 0, 1, 1, 1, 0, 1, 0),\n (0, 0, 1, 1, 1, 0, 1, 1),\n (0, 0, 1, 1, 1, 1, 0, 0),\n (0, 0, 1, 1, 1, 1, 0, 1),\n (0, 0, 1, 1, 1, 1, 1, 0),\n (0, 0, 1, 1, 1, 1, 1, 1),\n (0, 1, 0, 0, 0, 0, 0, 0),\n (0, 1, 0, 0, 0, 0, 0, 1),\n (0, 1, 0, 0, 0, 0, 1, 0),\n (0, 1, 0, 0, 0, 0, 1, 1),\n (0, 1, 0, 0, 0, 1, 0, 0),\n (0, 1, 0, 0, 0, 1, 0, 1),\n (0, 1, 0, 0, 0, 1, 1, 0),\n (0, 1, 0, 0, 0, 1, 1, 1),\n (0, 1, 0, 0, 1, 0, 0, 0),\n (0, 1, 0, 0, 1, 0, 0, 1),\n (0, 1, 0, 0, 1, 0, 1, 0),\n (0, 1, 0, 0, 1, 0, 1, 1),\n (0, 1, 0, 0, 1, 1, 0, 0),\n (0, 1, 0, 0, 1, 1, 0, 1),\n (0, 1, 0, 0, 1, 1, 1, 0),\n (0, 1, 0, 0, 1, 1, 1, 1),\n (0, 1, 0, 1, 0, 0, 0, 0),\n (0, 1, 0, 1, 0, 0, 0, 1),\n (0, 1, 0, 1, 0, 0, 1, 0),\n (0, 1, 0, 1, 0, 0, 1, 1),\n (0, 1, 0, 1, 0, 1, 0, 0),\n (0, 1, 0, 1, 0, 1, 0, 1),\n (0, 1, 0, 1, 0, 1, 1, 0),\n (0, 1, 0, 1, 0, 1, 1, 1),\n (0, 1, 0, 1, 1, 0, 0, 0),\n (0, 1, 0, 1, 1, 0, 0, 1),\n (0, 1, 0, 1, 1, 0, 1, 0),\n (0, 1, 0, 1, 1, 0, 1, 1),\n (0, 1, 0, 1, 1, 1, 0, 0),\n (0, 1, 0, 1, 1, 1, 0, 1),\n (0, 1, 0, 1, 1, 1, 1, 0),\n (0, 1, 0, 1, 1, 1, 1, 1),\n (0, 1, 1, 0, 0, 0, 0, 0),\n (0, 1, 1, 0, 0, 0, 0, 1),\n (0, 1, 1, 0, 0, 0, 1, 0),\n (0, 1, 1, 0, 0, 0, 1, 1),\n (0, 1, 1, 0, 0, 1, 0, 0),\n (0, 1, 1, 0, 0, 1, 0, 1),\n (0, 1, 1, 0, 0, 1, 1, 0),\n (0, 1, 1, 0, 0, 1, 1, 1),\n (0, 1, 1, 0, 1, 0, 0, 0),\n (0, 1, 1, 0, 1, 0, 0, 1),\n (0, 1, 1, 0, 1, 0, 1, 0),\n (0, 1, 1, 0, 1, 0, 1, 1),\n (0, 1, 1, 0, 1, 1, 0, 0),\n (0, 1, 1, 0, 1, 1, 0, 1),\n (0, 1, 1, 0, 1, 1, 1, 0),\n (0, 1, 1, 0, 1, 1, 1, 1),\n (0, 1, 1, 1, 0, 0, 0, 0),\n (0, 1, 1, 1, 0, 0, 0, 1),\n (0, 1, 1, 1, 0, 0, 1, 0),\n (0, 1, 1, 1, 0, 0, 1, 1),\n (0, 1, 1, 1, 0, 1, 0, 0),\n (0, 1, 1, 1, 0, 1, 0, 1),\n (0, 1, 1, 1, 0, 1, 1, 0),\n (0, 1, 1, 1, 0, 1, 1, 1),\n (0, 1, 1, 1, 1, 0, 0, 0),\n (0, 1, 1, 1, 1, 0, 0, 1),\n (0, 1, 1, 1, 1, 0, 1, 0),\n (0, 1, 1, 1, 1, 0, 1, 1),\n (0, 1, 1, 1, 1, 1, 0, 0),\n (0, 1, 1, 1, 1, 1, 0, 1),\n (0, 1, 1, 1, 1, 1, 1, 0),\n (0, 1, 1, 1, 1, 1, 1, 1),\n (1, 0, 0, 0, 0, 0, 0, 0),\n (1, 0, 0, 0, 0, 0, 0, 1),\n (1, 0, 0, 0, 0, 0, 1, 0),\n (1, 0, 0, 0, 0, 0, 1, 1),\n (1, 0, 0, 0, 0, 1, 0, 0),\n (1, 0, 0, 0, 0, 1, 0, 1),\n (1, 0, 0, 0, 0, 1, 1, 0),\n (1, 0, 0, 0, 0, 1, 1, 1),\n (1, 0, 0, 0, 1, 0, 0, 0),\n (1, 0, 0, 0, 1, 0, 0, 1),\n (1, 0, 0, 0, 1, 0, 1, 0),\n (1, 0, 0, 0, 1, 0, 1, 1),\n (1, 0, 0, 0, 1, 1, 0, 0),\n (1, 0, 0, 0, 1, 1, 0, 1),\n (1, 0, 0, 0, 1, 1, 1, 0),\n (1, 0, 0, 0, 1, 1, 1, 1),\n (1, 0, 0, 1, 0, 0, 0, 0),\n (1, 0, 0, 1, 0, 0, 0, 1),\n (1, 0, 0, 1, 0, 0, 1, 0),\n (1, 0, 0, 1, 0, 0, 1, 1),\n (1, 0, 0, 1, 0, 1, 0, 0),\n (1, 0, 0, 1, 0, 1, 0, 1),\n (1, 0, 0, 1, 0, 1, 1, 0),\n (1, 0, 0, 1, 0, 1, 1, 1),\n (1, 0, 0, 1, 1, 0, 0, 0),\n (1, 0, 0, 1, 1, 0, 0, 1),\n (1, 0, 0, 1, 1, 0, 1, 0),\n (1, 0, 0, 1, 1, 0, 1, 1),\n (1, 0, 0, 1, 1, 1, 0, 0),\n (1, 0, 0, 1, 1, 1, 0, 1),\n (1, 0, 0, 1, 1, 1, 1, 0),\n (1, 0, 0, 1, 1, 1, 1, 1),\n (1, 0, 1, 0, 0, 0, 0, 0),\n (1, 0, 1, 0, 0, 0, 0, 1),\n (1, 0, 1, 0, 0, 0, 1, 0),\n (1, 0, 1, 0, 0, 0, 1, 1),\n (1, 0, 1, 0, 0, 1, 0, 0),\n (1, 0, 1, 0, 0, 1, 0, 1),\n (1, 0, 1, 0, 0, 1, 1, 0),\n (1, 0, 1, 0, 0, 1, 1, 1),\n (1, 0, 1, 0, 1, 0, 0, 0),\n (1, 0, 1, 0, 1, 0, 0, 1),\n (1, 0, 1, 0, 1, 0, 1, 0),\n (1, 0, 1, 0, 1, 0, 1, 1),\n (1, 0, 1, 0, 1, 1, 0, 0),\n (1, 0, 1, 0, 1, 1, 0, 1),\n (1, 0, 1, 0, 1, 1, 1, 0),\n (1, 0, 1, 0, 1, 1, 1, 1),\n (1, 0, 1, 1, 0, 0, 0, 0),\n (1, 0, 1, 1, 0, 0, 0, 1),\n (1, 0, 1, 1, 0, 0, 1, 0),\n (1, 0, 1, 1, 0, 0, 1, 1),\n (1, 0, 1, 1, 0, 1, 0, 0),\n (1, 0, 1, 1, 0, 1, 0, 1),\n (1, 0, 1, 1, 0, 1, 1, 0),\n (1, 0, 1, 1, 0, 1, 1, 1),\n (1, 0, 1, 1, 1, 0, 0, 0),\n (1, 0, 1, 1, 1, 0, 0, 1),\n (1, 0, 1, 1, 1, 0, 1, 0),\n (1, 0, 1, 1, 1, 0, 1, 1),\n (1, 0, 1, 1, 1, 1, 0, 0),\n (1, 0, 1, 1, 1, 1, 0, 1),\n (1, 0, 1, 1, 1, 1, 1, 0),\n (1, 0, 1, 1, 1, 1, 1, 1),\n (1, 1, 0, 0, 0, 0, 0, 0),\n (1, 1, 0, 0, 0, 0, 0, 1),\n (1, 1, 0, 0, 0, 0, 1, 0),\n (1, 1, 0, 0, 0, 0, 1, 1),\n (1, 1, 0, 0, 0, 1, 0, 0),\n (1, 1, 0, 0, 0, 1, 0, 1),\n (1, 1, 0, 0, 0, 1, 1, 0),\n (1, 1, 0, 0, 0, 1, 1, 1),\n (1, 1, 0, 0, 1, 0, 0, 0),\n (1, 1, 0, 0, 1, 0, 0, 1),\n (1, 1, 0, 0, 1, 0, 1, 0),\n (1, 1, 0, 0, 1, 0, 1, 1),\n (1, 1, 0, 0, 1, 1, 0, 0),\n (1, 1, 0, 0, 1, 1, 0, 1),\n (1, 1, 0, 0, 1, 1, 1, 0),\n (1, 1, 0, 0, 1, 1, 1, 1),\n (1, 1, 0, 1, 0, 0, 0, 0),\n (1, 1, 0, 1, 0, 0, 0, 1),\n (1, 1, 0, 1, 0, 0, 1, 0),\n (1, 1, 0, 1, 0, 0, 1, 1),\n (1, 1, 0, 1, 0, 1, 0, 0),\n (1, 1, 0, 1, 0, 1, 0, 1),\n (1, 1, 0, 1, 0, 1, 1, 0),\n (1, 1, 0, 1, 0, 1, 1, 1),\n (1, 1, 0, 1, 1, 0, 0, 0),\n (1, 1, 0, 1, 1, 0, 0, 1),\n (1, 1, 0, 1, 1, 0, 1, 0),\n (1, 1, 0, 1, 1, 0, 1, 1),\n (1, 1, 0, 1, 1, 1, 0, 0),\n (1, 1, 0, 1, 1, 1, 0, 1),\n (1, 1, 0, 1, 1, 1, 1, 0),\n (1, 1, 0, 1, 1, 1, 1, 1),\n (1, 1, 1, 0, 0, 0, 0, 0),\n (1, 1, 1, 0, 0, 0, 0, 1),\n (1, 1, 1, 0, 0, 0, 1, 0),\n (1, 1, 1, 0, 0, 0, 1, 1),\n (1, 1, 1, 0, 0, 1, 0, 0),\n (1, 1, 1, 0, 0, 1, 0, 1),\n (1, 1, 1, 0, 0, 1, 1, 0),\n (1, 1, 1, 0, 0, 1, 1, 1),\n (1, 1, 1, 0, 1, 0, 0, 0),\n (1, 1, 1, 0, 1, 0, 0, 1),\n (1, 1, 1, 0, 1, 0, 1, 0),\n (1, 1, 1, 0, 1, 0, 1, 1),\n (1, 1, 1, 0, 1, 1, 0, 0),\n (1, 1, 1, 0, 1, 1, 0, 1),\n (1, 1, 1, 0, 1, 1, 1, 0),\n (1, 1, 1, 0, 1, 1, 1, 1),\n (1, 1, 1, 1, 0, 0, 0, 0),\n (1, 1, 1, 1, 0, 0, 0, 1),\n (1, 1, 1, 1, 0, 0, 1, 0),\n (1, 1, 1, 1, 0, 0, 1, 1),\n (1, 1, 1, 1, 0, 1, 0, 0),\n (1, 1, 1, 1, 0, 1, 0, 1),\n (1, 1, 1, 1, 0, 1, 1, 0),\n (1, 1, 1, 1, 0, 1, 1, 1),\n (1, 1, 1, 1, 1, 0, 0, 0),\n (1, 1, 1, 1, 1, 0, 0, 1),\n (1, 1, 1, 1, 1, 0, 1, 0),\n (1, 1, 1, 1, 1, 0, 1, 1),\n (1, 1, 1, 1, 1, 1, 0, 0),\n (1, 1, 1, 1, 1, 1, 0, 1),\n (1, 1, 1, 1, 1, 1, 1, 0),\n (1, 1, 1, 1, 1, 1, 1, 1)]"
     },
     "execution_count": 143,
     "metadata": {},
     "output_type": "execute_result"
    }
   ],
   "source": [
    "n_rules = n_states_for_one_cell ** n_neighbourhood_states\n",
    "print('Number of rules for {n_state} state CA with neighbourhood size {n_size}: {n_rules}'.format(\n",
    "    n_state=n_states_for_one_cell, n_size=size_of_neighbourhood, n_rules=n_rules\n",
    "))\n",
    "\n",
    "rules = [(b0,b1,b2,b3,b4,b5,b6,b7)\n",
    "            for b0 in bit for b1 in bit for b2 in bit for b3 in bit for b4 in bit for b5 in bit for b6 in bit for b7 in bit\n",
    "        ]\n",
    "rules"
   ],
   "metadata": {
    "collapsed": false,
    "pycharm": {
     "name": "#%%\n"
    }
   }
  },
  {
   "cell_type": "markdown",
   "source": [
    "## Binary to Decimal\n",
    "We 'encode' neighbourhood 'states' as a 3-bit binary number.  Convert a neighbourhood to decimal so we can use it as an index."
   ],
   "metadata": {
    "collapsed": false
   }
  },
  {
   "cell_type": "code",
   "execution_count": 144,
   "outputs": [
    {
     "name": "stdout",
     "output_type": "stream",
     "text": [
      "performing dot product on: [4, 2, 1] * [1, 0, 1]\n"
     ]
    }
   ],
   "source": [
    "neighbourhood = [1,0,1]\n",
    "index = neighbourhood[0]*4 + neighbourhood[1]*2 + neighbourhood[2]\n",
    "\n",
    "def bin_to_dec1(a):\n",
    "  \"\"\" convert binary sequence a to decimal using \"brute force\" \"\"\"\n",
    "  dec = 0\n",
    "  for i, bit in enumerate(a[::-1]):\n",
    "    dec += 2**i * bit\n",
    "  return dec\n",
    "assert bin_to_dec1([1,0,1]) == 5\n",
    "\n",
    "def bin_to_dec2(a):\n",
    "  \"\"\" convert binary sequence a to decimal using accumulator \"\"\"\n",
    "  dec = 0\n",
    "  for bit in a:\n",
    "    dec = dec*2 + bit\n",
    "  return dec\n",
    "assert bin_to_dec2([1,0,1]) == 5\n",
    "\n",
    "PLACES = [2**8, 2**7, 2**6, 2**5, 2**4, 2**3, 2**2, 2**1, 2**0]   # ordering matches binary sequence ordering!\n",
    "def bin_to_dec3(a):\n",
    "  \"\"\" convert binary sequence a to decimal using \"vector dot product\" \"\"\"\n",
    "  places = PLACES[-len(a):]\n",
    "  print('performing dot product on:', places, '*', a)\n",
    "  return sum(a[i]*places[i] for i in range(len(a)))\n",
    "assert bin_to_dec3([1,0,1]) == 5\n",
    "\n",
    "# Split out the dot-product function because it is generally useful for more than just binary number conversion...\n",
    "def dot_product(a, w):\n",
    "    \"\"\" return the dot product of vectors a and w, to length of w \"\"\"\n",
    "    return sum(a[i]*w[i] for i in range(len(w)))\n",
    "assert dot_product([0,1,1], [4,2,1]) == 3\n",
    "\n",
    "def bin_to_dec4(a):\n",
    "    \"\"\" Final version, usnig dot_product \"\"\"\n",
    "    places = PLACES[-len(a):]\n",
    "    return dot_product(a, places)\n",
    "assert bin_to_dec4([1,0,1]) == 5\n"
   ],
   "metadata": {
    "collapsed": false,
    "pycharm": {
     "name": "#%%\n"
    }
   }
  },
  {
   "cell_type": "markdown",
   "source": [
    "## numpy.array\n",
    "numpy (numerical python) `array` class defines vector (and matrix) operations to simplify vector logic.\n",
    "If we assume the input a for dot_product is a `numpy.array`, the code is simplified further:"
   ],
   "metadata": {
    "collapsed": false
   }
  },
  {
   "cell_type": "code",
   "execution_count": 145,
   "outputs": [],
   "source": [
    "def dot_product(a, w):\n",
    "    \"\"\" return the dot product of numpy.array a and vector w, to length of w \"\"\"\n",
    "    return sum(a * w)   # numpy.array defines multiplication as vector multiplication\n",
    "assert dot_product(np.array([0,1,1]), [4,2,1]) == 3"
   ],
   "metadata": {
    "collapsed": false,
    "pycharm": {
     "name": "#%%\n"
    }
   }
  },
  {
   "cell_type": "markdown",
   "source": [
    "## Sliding dot product algorithm\n",
    "Finally, we are ready to compute the \"rule\" indexes for an entire row, using a sliding-window algorithm.\n",
    "* Note that this algorithm computes the indexes into an 8-bit \"rule\" - so can be used with any of the 256 rules!"
   ],
   "metadata": {
    "collapsed": false
   }
  },
  {
   "cell_type": "code",
   "execution_count": 146,
   "outputs": [
    {
     "name": "stdout",
     "output_type": "stream",
     "text": [
      "Indexes to choose next state for [1 1 0 0 1 0 0 0] are: [6 4 1 2 4 0]\n"
     ]
    }
   ],
   "source": [
    "def sliding_dot_product(row, window):\n",
    "    \"\"\" Compute rule indexes from dot product at each window pos. \"\"\"\n",
    "    N = len(window)\n",
    "    cols = len(row)-N+1\n",
    "    c = [ dot_product(row[k:k+N], window) for k in range(cols) ]\n",
    "    return np.array(c)\n",
    "assert all( sliding_dot_product(np.array([1,1,0,0,1,0,0,0]), [4,2,1]) == [6, 4, 1, 2, 4, 0] )\n",
    "\n",
    "row = np.array([1,1,0,0,1,0,0,0])\n",
    "window = [4,2,1]\n",
    "print('Indexes to choose next state for {row} are: {next}'.format(\n",
    "    row=row, next=sliding_dot_product(row, window)\n",
    "))"
   ],
   "metadata": {
    "collapsed": false,
    "pycharm": {
     "name": "#%%\n"
    }
   }
  },
  {
   "cell_type": "markdown",
   "source": [
    "## Apply the rule\n",
    "Phew!  Now we can use ANY of Wolfram's 8-bit rules as a \"look up table\", using the indexes above to \"look up\" the cell's next state\n",
    " * Tip: if the rule is an `np.array`, we can use vector indexing to index a whole row at once:  next_row=rule[indexes]\n",
    " * Tip: use `np.pad(array, n, mode='constant')` to pad array with n zeros on either end, or `mode='wrap'` to \"wrap\" the array ends."
   ],
   "metadata": {
    "collapsed": false
   }
  },
  {
   "cell_type": "code",
   "execution_count": 147,
   "outputs": [
    {
     "name": "stdout",
     "output_type": "stream",
     "text": [
      "Rule 110: [0, 1, 1, 1, 0, 1, 1, 0]\n",
      "  next state for [0 0 1 1 1 0 0 0 1 1 0] is: [0 1 1 0 1 0 0 1 1 1 0]\n"
     ]
    }
   ],
   "source": [
    "def next_state(row, rule):\n",
    "    \"\"\" return an np.array for the next state from current row for given 8-bit rule \"\"\"\n",
    "    indexes = sliding_dot_product(row, [4,2,1])\n",
    "    next_row = [rule[i] for i in indexes]\n",
    "    return np.array([0]+ next_row + [0])  # pad with zeros so output row is same length as input\n",
    "assert all( next_state(np.array([1,1,0,0,1,0,0,0]), rule_110) == [0, 1, 0, 1, 1, 0, 0, 0] )\n",
    "\n",
    "row = np.array([0,0,1,1,1,0,0,0,1,1,0])\n",
    "print(\"Rule 110:\", rule_110)\n",
    "print('  next state for {row} is: {next_state}'.format(\n",
    "    row=row, next_state=next_state(row, rule_110)\n",
    "))"
   ],
   "metadata": {
    "collapsed": false,
    "pycharm": {
     "name": "#%%\n"
    }
   }
  },
  {
   "cell_type": "markdown",
   "source": [
    "## Displaying progression of a 1D CA over time\n",
    "Since we display the CA state along x-axis, we can use the 'y-axis' to display its progress through time\n",
    " * this creates a 2D array that can be displayed as an image\n",
    " * use data type `np.uint8` for cells - 2D array of unsigned 8-bit integers is a basic image format\n",
    " * initialize CA with 1 \"on\" cell in middle for first row to emulate Wolfram's original experiments"
   ],
   "metadata": {
    "collapsed": false
   }
  },
  {
   "cell_type": "code",
   "execution_count": 148,
   "outputs": [
    {
     "data": {
      "text/plain": "<Figure size 1152x576 with 1 Axes>",
      "image/png": "[encoded data removed]"
     },
     "metadata": {},
     "output_type": "display_data"
    }
   ],
   "source": [
    "def generate_ca(cells, rows, rule):\n",
    "    \"\"\" Generate a CA with given number os cells, showing progression of rule for given number of rows \"\"\"\n",
    "    array = np.zeros((rows, cells), dtype=np.uint8)  # an array of cells for each row\n",
    "    array[0, cells//2] = 1                           # place a 1 in middle of first row\n",
    "    for r in range(1, rows):\n",
    "        array[r] = next_state(array[r-1], rule)\n",
    "    return array\n",
    "\n",
    "def draw(ca):\n",
    "    \"\"\" Draws the CA using pyplot.imshow \"\"\"\n",
    "    fig, ax = plt.subplots(figsize=(16, 8))\n",
    "    plt.imshow(ca, cmap='Blues', interpolation=None)\n",
    "    # turn off axis tick marks\n",
    "    plt.xticks([])\n",
    "    plt.yticks([])\n",
    "    return plt.show()\n",
    "\n",
    "bin_90 = [0,1,0,1,1,0,1,0]\n",
    "rule_90 = bin_90[::-1]\n",
    "ca = generate_ca(200, 100, rule_90)\n",
    "draw(ca)"
   ],
   "metadata": {
    "collapsed": false,
    "pycharm": {
     "name": "#%%\n"
    }
   }
  },
  {
   "cell_type": "code",
   "execution_count": 148,
   "outputs": [],
   "source": [],
   "metadata": {
    "collapsed": false,
    "pycharm": {
     "name": "#%%\n"
    }
   }
  }
 ]
}