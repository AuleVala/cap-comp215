{
  "nbformat": 4,
  "nbformat_minor": 0,
  "metadata": {
    "colab": {
      "name": "week2.ipynb",
      "provenance": [],
      "authorship_tag": "ABX9TyPaDDBvkkZsqA9kTy73BUWZ",
      "include_colab_link": true
    },
    "kernelspec": {
      "name": "python3",
      "display_name": "Python 3"
    },
    "language_info": {
      "name": "python"
    }
  },
  "cells": [
    {
      "cell_type": "markdown",
      "metadata": {
        "id": "view-in-github",
        "colab_type": "text"
      },
      "source": [
        "<a href=\"https://colab.research.google.com/github/powderflask/cap-comp215/blob/main/examples/week2.ipynb\" target=\"_parent\"><img src=\"https://colab.research.google.com/assets/colab-badge.svg\" alt=\"Open In Colab\"/></a>"
      ]
    },
    {
      "cell_type": "markdown",
      "source": [
        "# Review - Tuples, Lists, Dictionaries\n",
        "This is our week 2 examples notebook and will be available on Github from the powderflask/cap-comp215 repository.\n",
        "\n",
        "As usual, the first code block just imports the modules we will use."
      ],
      "metadata": {
        "id": "WBMC0GrjNRTM"
      }
    },
    {
      "cell_type": "code",
      "execution_count": 18,
      "metadata": {
        "id": "C1a6aDXAM0WM"
      },
      "outputs": [],
      "source": [
        "import datetime, json, requests\n",
        "import matplotlib.pyplot as plt\n",
        "import  matplotlib.dates as mdates\n",
        "from pprint import pprint"
      ]
    },
    {
      "cell_type": "markdown",
      "source": [
        "## A simple model\n",
        "How many students on campus are expected to have Covid?\n",
        "Data up to Dec. 31 --> question is for Jan. 10\n",
        "\n",
        "What data do we need?  What data is avaiable?\n",
        "Data from VC health region - number of active case\n",
        "Demographic for student - in this demographic\n",
        "Transmission Rate of current variant (R) - how fast is it doubling?\n",
        "Total student population size - how many?\n",
        "Proportion of students who are Cap students\n",
        "\n",
        "----------------\n",
        "\n",
        "* N cases in VC H.R. in 21 - 30 age range\n",
        "* P people in VC HR in 21 - 30 age range\n",
        "* I = N/P * 100% --> propotion of infections in the age range\n",
        "* S total students at Cap\n",
        "* I * S --> number of infections among Cap students\n",
        "* project that 10 days into future based on R\n",
        "* R is from historical doubling rate over previous D days\n"
      ],
      "metadata": {
        "id": "k70NJ-JTNwYN"
      }
    },
    {
      "cell_type": "code",
      "source": [
        "projection = 10             # project 10 days into future\n",
        "doubling_time = 3           # doubling time for Omicron in days (world wide)\n",
        "population_size = 1219436   # total pop. in VC HR\n",
        "prop_in_20_34 = 0.27        # proportion in target demographic\n",
        "pop_in_20_34 = population_size * prop_in_20_34\n",
        "number_cases = 4072         # num. active cases in VC HR on Dec. 31 2021\n",
        "number_cases_in_20_34 = number_cases * prop_in_20_34\n",
        "\n",
        "cap_students = 11500        # num. students attending Cap\n",
        "\n",
        "prop_infected = number_cases_in_20_34 / pop_in_20_34\n",
        "num_infected = prop_infected * cap_students    # num cap students infected Dec. 31\n",
        "num_infected_projection = num_infected*2**(projection/doubling_time)\n",
        "num_infected_projection"
      ],
      "metadata": {
        "id": "HZSz8IftqJ72",
        "colab": {
          "base_uri": "https://localhost:8080/"
        },
        "outputId": "5b74860f-94af-483c-f4a8-4ef27ba7dd4a"
      },
      "execution_count": 39,
      "outputs": [
        {
          "output_type": "execute_result",
          "data": {
            "text/plain": [
              "387.0614475838149"
            ]
          },
          "metadata": {},
          "execution_count": 39
        }
      ]
    },
    {
      "cell_type": "markdown",
      "source": [
        "## Records\n",
        "\n",
        " * tuple or list\n",
        " * dictionary\n",
        " * object"
      ],
      "metadata": {
        "id": "naDVayQLkznK"
      }
    },
    {
      "cell_type": "code",
      "source": [
        "import datetime\n",
        "graham = ('Graham', 'S', 102928834, datetime.date(year=2021, month=8, day=1), )\n",
        "graham[0]\n",
        "point = (25, 2, 13)\n",
        "graham = {\n",
        "    'firstname': 'Graham',\n",
        "    'lastname': 'S',\n",
        "    'id': 102928834,\n",
        "    'accepted': datetime.date(year=2021, month=8, day=1)\n",
        "}\n",
        "graham['firstname']\n",
        "\n",
        "# Object?"
      ],
      "metadata": {
        "colab": {
          "base_uri": "https://localhost:8080/",
          "height": 58
        },
        "id": "Ai9qb3Bolw4h",
        "outputId": "2e0926a0-3354-45d2-8769-54290d4decc1"
      },
      "execution_count": 5,
      "outputs": [
        {
          "output_type": "execute_result",
          "data": {
            "application/vnd.google.colaboratory.intrinsic+json": {
              "type": "string"
            },
            "text/plain": [
              "'Graham'"
            ]
          },
          "metadata": {},
          "execution_count": 5
        }
      ]
    }
  ]
}